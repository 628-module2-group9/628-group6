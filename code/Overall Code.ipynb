{
 "cells": [
  {
   "cell_type": "markdown",
   "metadata": {},
   "source": [
    "# Overall Code"
   ]
  },
  {
   "cell_type": "code",
   "execution_count": 1,
   "metadata": {
    "collapsed": true
   },
   "outputs": [],
   "source": [
    "remove(list = ls())"
   ]
  },
  {
   "cell_type": "code",
   "execution_count": 2,
   "metadata": {},
   "outputs": [
    {
     "name": "stderr",
     "output_type": "stream",
     "text": [
      "\n",
      "Attaching package: ‘dplyr’\n",
      "\n",
      "The following objects are masked from ‘package:stats’:\n",
      "\n",
      "    filter, lag\n",
      "\n",
      "The following objects are masked from ‘package:base’:\n",
      "\n",
      "    intersect, setdiff, setequal, union\n",
      "\n",
      "Loading required package: Matrix\n",
      "Loading required package: foreach\n",
      "Loaded glmnet 2.0-10\n",
      "\n"
     ]
    }
   ],
   "source": [
    "library(dplyr)\n",
    "library(glmnet)\n",
    "library(xtable)\n",
    "library(ggplot2)"
   ]
  },
  {
   "cell_type": "markdown",
   "metadata": {},
   "source": [
    "## Part 1: Data Preprocessing"
   ]
  },
  {
   "cell_type": "markdown",
   "metadata": {},
   "source": [
    "### 1.1 Dataset Overview"
   ]
  },
  {
   "cell_type": "code",
   "execution_count": 3,
   "metadata": {},
   "outputs": [
    {
     "data": {
      "text/html": [
       "<table>\n",
       "<thead><tr><th scope=col>IDNO</th><th scope=col>BODYFAT</th><th scope=col>DENSITY</th><th scope=col>AGE</th><th scope=col>WEIGHT</th><th scope=col>HEIGHT</th><th scope=col>ADIPOSITY</th><th scope=col>NECK</th><th scope=col>CHEST</th><th scope=col>ABDOMEN</th><th scope=col>HIP</th><th scope=col>THIGH</th><th scope=col>KNEE</th><th scope=col>ANKLE</th><th scope=col>BICEPS</th><th scope=col>FOREARM</th><th scope=col>WRIST</th></tr></thead>\n",
       "<tbody>\n",
       "\t<tr><td>1     </td><td>12.6  </td><td>1.0708</td><td>23    </td><td>154.25</td><td>67.75 </td><td>23.7  </td><td>36.2  </td><td> 93.1 </td><td> 85.2 </td><td> 94.5 </td><td>59.0  </td><td>37.3  </td><td>21.9  </td><td>32.0  </td><td>27.4  </td><td>17.1  </td></tr>\n",
       "\t<tr><td>2     </td><td> 6.9  </td><td>1.0853</td><td>22    </td><td>173.25</td><td>72.25 </td><td>23.4  </td><td>38.5  </td><td> 93.6 </td><td> 83.0 </td><td> 98.7 </td><td>58.7  </td><td>37.3  </td><td>23.4  </td><td>30.5  </td><td>28.9  </td><td>18.2  </td></tr>\n",
       "\t<tr><td>3     </td><td>24.6  </td><td>1.0414</td><td>22    </td><td>154.00</td><td>66.25 </td><td>24.7  </td><td>34.0  </td><td> 95.8 </td><td> 87.9 </td><td> 99.2 </td><td>59.6  </td><td>38.9  </td><td>24.0  </td><td>28.8  </td><td>25.2  </td><td>16.6  </td></tr>\n",
       "\t<tr><td>4     </td><td>10.9  </td><td>1.0751</td><td>26    </td><td>184.75</td><td>72.25 </td><td>24.9  </td><td>37.4  </td><td>101.8 </td><td> 86.4 </td><td>101.2 </td><td>60.1  </td><td>37.3  </td><td>22.8  </td><td>32.4  </td><td>29.4  </td><td>18.2  </td></tr>\n",
       "\t<tr><td>5     </td><td>27.8  </td><td>1.0340</td><td>24    </td><td>184.25</td><td>71.25 </td><td>25.6  </td><td>34.4  </td><td> 97.3 </td><td>100.0 </td><td>101.9 </td><td>63.2  </td><td>42.2  </td><td>24.0  </td><td>32.2  </td><td>27.7  </td><td>17.7  </td></tr>\n",
       "</tbody>\n",
       "</table>\n"
      ],
      "text/latex": [
       "\\begin{tabular}{r|lllllllllllllllll}\n",
       " IDNO & BODYFAT & DENSITY & AGE & WEIGHT & HEIGHT & ADIPOSITY & NECK & CHEST & ABDOMEN & HIP & THIGH & KNEE & ANKLE & BICEPS & FOREARM & WRIST\\\\\n",
       "\\hline\n",
       "\t 1      & 12.6   & 1.0708 & 23     & 154.25 & 67.75  & 23.7   & 36.2   &  93.1  &  85.2  &  94.5  & 59.0   & 37.3   & 21.9   & 32.0   & 27.4   & 17.1  \\\\\n",
       "\t 2      &  6.9   & 1.0853 & 22     & 173.25 & 72.25  & 23.4   & 38.5   &  93.6  &  83.0  &  98.7  & 58.7   & 37.3   & 23.4   & 30.5   & 28.9   & 18.2  \\\\\n",
       "\t 3      & 24.6   & 1.0414 & 22     & 154.00 & 66.25  & 24.7   & 34.0   &  95.8  &  87.9  &  99.2  & 59.6   & 38.9   & 24.0   & 28.8   & 25.2   & 16.6  \\\\\n",
       "\t 4      & 10.9   & 1.0751 & 26     & 184.75 & 72.25  & 24.9   & 37.4   & 101.8  &  86.4  & 101.2  & 60.1   & 37.3   & 22.8   & 32.4   & 29.4   & 18.2  \\\\\n",
       "\t 5      & 27.8   & 1.0340 & 24     & 184.25 & 71.25  & 25.6   & 34.4   &  97.3  & 100.0  & 101.9  & 63.2   & 42.2   & 24.0   & 32.2   & 27.7   & 17.7  \\\\\n",
       "\\end{tabular}\n"
      ],
      "text/markdown": [
       "\n",
       "IDNO | BODYFAT | DENSITY | AGE | WEIGHT | HEIGHT | ADIPOSITY | NECK | CHEST | ABDOMEN | HIP | THIGH | KNEE | ANKLE | BICEPS | FOREARM | WRIST | \n",
       "|---|---|---|---|---|\n",
       "| 1      | 12.6   | 1.0708 | 23     | 154.25 | 67.75  | 23.7   | 36.2   |  93.1  |  85.2  |  94.5  | 59.0   | 37.3   | 21.9   | 32.0   | 27.4   | 17.1   | \n",
       "| 2      |  6.9   | 1.0853 | 22     | 173.25 | 72.25  | 23.4   | 38.5   |  93.6  |  83.0  |  98.7  | 58.7   | 37.3   | 23.4   | 30.5   | 28.9   | 18.2   | \n",
       "| 3      | 24.6   | 1.0414 | 22     | 154.00 | 66.25  | 24.7   | 34.0   |  95.8  |  87.9  |  99.2  | 59.6   | 38.9   | 24.0   | 28.8   | 25.2   | 16.6   | \n",
       "| 4      | 10.9   | 1.0751 | 26     | 184.75 | 72.25  | 24.9   | 37.4   | 101.8  |  86.4  | 101.2  | 60.1   | 37.3   | 22.8   | 32.4   | 29.4   | 18.2   | \n",
       "| 5      | 27.8   | 1.0340 | 24     | 184.25 | 71.25  | 25.6   | 34.4   |  97.3  | 100.0  | 101.9  | 63.2   | 42.2   | 24.0   | 32.2   | 27.7   | 17.7   | \n",
       "\n",
       "\n"
      ],
      "text/plain": [
       "  IDNO BODYFAT DENSITY AGE WEIGHT HEIGHT ADIPOSITY NECK CHEST ABDOMEN HIP  \n",
       "1 1    12.6    1.0708  23  154.25 67.75  23.7      36.2  93.1  85.2    94.5\n",
       "2 2     6.9    1.0853  22  173.25 72.25  23.4      38.5  93.6  83.0    98.7\n",
       "3 3    24.6    1.0414  22  154.00 66.25  24.7      34.0  95.8  87.9    99.2\n",
       "4 4    10.9    1.0751  26  184.75 72.25  24.9      37.4 101.8  86.4   101.2\n",
       "5 5    27.8    1.0340  24  184.25 71.25  25.6      34.4  97.3 100.0   101.9\n",
       "  THIGH KNEE ANKLE BICEPS FOREARM WRIST\n",
       "1 59.0  37.3 21.9  32.0   27.4    17.1 \n",
       "2 58.7  37.3 23.4  30.5   28.9    18.2 \n",
       "3 59.6  38.9 24.0  28.8   25.2    16.6 \n",
       "4 60.1  37.3 22.8  32.4   29.4    18.2 \n",
       "5 63.2  42.2 24.0  32.2   27.7    17.7 "
      ]
     },
     "metadata": {},
     "output_type": "display_data"
    }
   ],
   "source": [
    "BodyFat = read.csv(\"BodyFat.csv\") # raw dataset: BodyFat\n",
    "head(BodyFat, n=5)"
   ]
  },
  {
   "cell_type": "code",
   "execution_count": 4,
   "metadata": {},
   "outputs": [
    {
     "name": "stdout",
     "output_type": "stream",
     "text": [
      "'data.frame':\t252 obs. of  17 variables:\n",
      " $ IDNO     : int  1 2 3 4 5 6 7 8 9 10 ...\n",
      " $ BODYFAT  : num  12.6 6.9 24.6 10.9 27.8 20.6 19 12.8 5.1 12 ...\n",
      " $ DENSITY  : num  1.07 1.09 1.04 1.08 1.03 ...\n",
      " $ AGE      : int  23 22 22 26 24 24 26 25 25 23 ...\n",
      " $ WEIGHT   : num  154 173 154 185 184 ...\n",
      " $ HEIGHT   : num  67.8 72.2 66.2 72.2 71.2 ...\n",
      " $ ADIPOSITY: num  23.7 23.4 24.7 24.9 25.6 26.5 26.2 23.6 24.6 25.8 ...\n",
      " $ NECK     : num  36.2 38.5 34 37.4 34.4 39 36.4 37.8 38.1 42.1 ...\n",
      " $ CHEST    : num  93.1 93.6 95.8 101.8 97.3 ...\n",
      " $ ABDOMEN  : num  85.2 83 87.9 86.4 100 94.4 90.7 88.5 82.5 88.6 ...\n",
      " $ HIP      : num  94.5 98.7 99.2 101.2 101.9 ...\n",
      " $ THIGH    : num  59 58.7 59.6 60.1 63.2 66 58.4 60 62.9 63.1 ...\n",
      " $ KNEE     : num  37.3 37.3 38.9 37.3 42.2 42 38.3 39.4 38.3 41.7 ...\n",
      " $ ANKLE    : num  21.9 23.4 24 22.8 24 25.6 22.9 23.2 23.8 25 ...\n",
      " $ BICEPS   : num  32 30.5 28.8 32.4 32.2 35.7 31.9 30.5 35.9 35.6 ...\n",
      " $ FOREARM  : num  27.4 28.9 25.2 29.4 27.7 30.6 27.8 29 31.1 30 ...\n",
      " $ WRIST    : num  17.1 18.2 16.6 18.2 17.7 18.8 17.7 18.8 18.2 19.2 ...\n"
     ]
    }
   ],
   "source": [
    "str(BodyFat)"
   ]
  },
  {
   "cell_type": "code",
   "execution_count": 5,
   "metadata": {},
   "outputs": [
    {
     "data": {
      "text/html": [
       "<table>\n",
       "<thead><tr><th scope=col>     IDNO</th><th scope=col>   BODYFAT</th><th scope=col>   DENSITY</th><th scope=col>     AGE</th><th scope=col>    WEIGHT</th><th scope=col>    HEIGHT</th><th scope=col>  ADIPOSITY</th><th scope=col>     NECK</th><th scope=col>    CHEST</th><th scope=col>   ABDOMEN</th><th scope=col>     HIP</th><th scope=col>    THIGH</th><th scope=col>     KNEE</th><th scope=col>    ANKLE</th><th scope=col>    BICEPS</th><th scope=col>   FOREARM</th><th scope=col>    WRIST</th></tr></thead>\n",
       "<tbody>\n",
       "\t<tr><td>Min.   :  1.00  </td><td>Min.   : 0.00   </td><td>Min.   :0.995   </td><td>Min.   :22.00   </td><td>Min.   :118.5   </td><td>Min.   :29.50   </td><td>Min.   :18.10   </td><td>Min.   :31.10   </td><td>Min.   : 79.30  </td><td>Min.   : 69.40  </td><td>Min.   : 85.0   </td><td>Min.   :47.20   </td><td>Min.   :33.00   </td><td>Min.   :19.1    </td><td>Min.   :24.80   </td><td>Min.   :21.00   </td><td>Min.   :15.80   </td></tr>\n",
       "\t<tr><td>1st Qu.: 63.75  </td><td>1st Qu.:12.80   </td><td>1st Qu.:1.041   </td><td>1st Qu.:35.75   </td><td>1st Qu.:159.0   </td><td>1st Qu.:68.25   </td><td>1st Qu.:23.10   </td><td>1st Qu.:36.40   </td><td>1st Qu.: 94.35  </td><td>1st Qu.: 84.58  </td><td>1st Qu.: 95.5   </td><td>1st Qu.:56.00   </td><td>1st Qu.:36.98   </td><td>1st Qu.:22.0    </td><td>1st Qu.:30.20   </td><td>1st Qu.:27.30   </td><td>1st Qu.:17.60   </td></tr>\n",
       "\t<tr><td>Median :126.50  </td><td>Median :19.00   </td><td>Median :1.055   </td><td>Median :43.00   </td><td>Median :176.5   </td><td>Median :70.00   </td><td>Median :25.05   </td><td>Median :38.00   </td><td>Median : 99.65  </td><td>Median : 90.95  </td><td>Median : 99.3   </td><td>Median :59.00   </td><td>Median :38.50   </td><td>Median :22.8    </td><td>Median :32.05   </td><td>Median :28.70   </td><td>Median :18.30   </td></tr>\n",
       "\t<tr><td>Mean   :126.50  </td><td>Mean   :18.94   </td><td>Mean   :1.056   </td><td>Mean   :44.88   </td><td>Mean   :178.9   </td><td>Mean   :70.15   </td><td>Mean   :25.44   </td><td>Mean   :37.99   </td><td>Mean   :100.82  </td><td>Mean   : 92.56  </td><td>Mean   : 99.9   </td><td>Mean   :59.41   </td><td>Mean   :38.59   </td><td>Mean   :23.1    </td><td>Mean   :32.27   </td><td>Mean   :28.66   </td><td>Mean   :18.23   </td></tr>\n",
       "\t<tr><td>3rd Qu.:189.25  </td><td>3rd Qu.:24.60   </td><td>3rd Qu.:1.070   </td><td>3rd Qu.:54.00   </td><td>3rd Qu.:197.0   </td><td>3rd Qu.:72.25   </td><td>3rd Qu.:27.32   </td><td>3rd Qu.:39.42   </td><td>3rd Qu.:105.38  </td><td>3rd Qu.: 99.33  </td><td>3rd Qu.:103.5   </td><td>3rd Qu.:62.35   </td><td>3rd Qu.:39.92   </td><td>3rd Qu.:24.0    </td><td>3rd Qu.:34.33   </td><td>3rd Qu.:30.00   </td><td>3rd Qu.:18.80   </td></tr>\n",
       "\t<tr><td>Max.   :252.00  </td><td>Max.   :45.10   </td><td>Max.   :1.109   </td><td>Max.   :81.00   </td><td>Max.   :363.1   </td><td>Max.   :77.75   </td><td>Max.   :48.90   </td><td>Max.   :51.20   </td><td>Max.   :136.20  </td><td>Max.   :148.10  </td><td>Max.   :147.7   </td><td>Max.   :87.30   </td><td>Max.   :49.10   </td><td>Max.   :33.9    </td><td>Max.   :45.00   </td><td>Max.   :34.90   </td><td>Max.   :21.40   </td></tr>\n",
       "</tbody>\n",
       "</table>\n"
      ],
      "text/latex": [
       "\\begin{tabular}{r|lllllllllllllllll}\n",
       "      IDNO &    BODYFAT &    DENSITY &      AGE &     WEIGHT &     HEIGHT &   ADIPOSITY &      NECK &     CHEST &    ABDOMEN &      HIP &     THIGH &      KNEE &     ANKLE &     BICEPS &    FOREARM &     WRIST\\\\\n",
       "\\hline\n",
       "\t Min.   :  1.00   & Min.   : 0.00    & Min.   :0.995    & Min.   :22.00    & Min.   :118.5    & Min.   :29.50    & Min.   :18.10    & Min.   :31.10    & Min.   : 79.30   & Min.   : 69.40   & Min.   : 85.0    & Min.   :47.20    & Min.   :33.00    & Min.   :19.1     & Min.   :24.80    & Min.   :21.00    & Min.   :15.80   \\\\\n",
       "\t 1st Qu.: 63.75   & 1st Qu.:12.80    & 1st Qu.:1.041    & 1st Qu.:35.75    & 1st Qu.:159.0    & 1st Qu.:68.25    & 1st Qu.:23.10    & 1st Qu.:36.40    & 1st Qu.: 94.35   & 1st Qu.: 84.58   & 1st Qu.: 95.5    & 1st Qu.:56.00    & 1st Qu.:36.98    & 1st Qu.:22.0     & 1st Qu.:30.20    & 1st Qu.:27.30    & 1st Qu.:17.60   \\\\\n",
       "\t Median :126.50   & Median :19.00    & Median :1.055    & Median :43.00    & Median :176.5    & Median :70.00    & Median :25.05    & Median :38.00    & Median : 99.65   & Median : 90.95   & Median : 99.3    & Median :59.00    & Median :38.50    & Median :22.8     & Median :32.05    & Median :28.70    & Median :18.30   \\\\\n",
       "\t Mean   :126.50   & Mean   :18.94    & Mean   :1.056    & Mean   :44.88    & Mean   :178.9    & Mean   :70.15    & Mean   :25.44    & Mean   :37.99    & Mean   :100.82   & Mean   : 92.56   & Mean   : 99.9    & Mean   :59.41    & Mean   :38.59    & Mean   :23.1     & Mean   :32.27    & Mean   :28.66    & Mean   :18.23   \\\\\n",
       "\t 3rd Qu.:189.25   & 3rd Qu.:24.60    & 3rd Qu.:1.070    & 3rd Qu.:54.00    & 3rd Qu.:197.0    & 3rd Qu.:72.25    & 3rd Qu.:27.32    & 3rd Qu.:39.42    & 3rd Qu.:105.38   & 3rd Qu.: 99.33   & 3rd Qu.:103.5    & 3rd Qu.:62.35    & 3rd Qu.:39.92    & 3rd Qu.:24.0     & 3rd Qu.:34.33    & 3rd Qu.:30.00    & 3rd Qu.:18.80   \\\\\n",
       "\t Max.   :252.00   & Max.   :45.10    & Max.   :1.109    & Max.   :81.00    & Max.   :363.1    & Max.   :77.75    & Max.   :48.90    & Max.   :51.20    & Max.   :136.20   & Max.   :148.10   & Max.   :147.7    & Max.   :87.30    & Max.   :49.10    & Max.   :33.9     & Max.   :45.00    & Max.   :34.90    & Max.   :21.40   \\\\\n",
       "\\end{tabular}\n"
      ],
      "text/markdown": [
       "\n",
       "     IDNO |    BODYFAT |    DENSITY |      AGE |     WEIGHT |     HEIGHT |   ADIPOSITY |      NECK |     CHEST |    ABDOMEN |      HIP |     THIGH |      KNEE |     ANKLE |     BICEPS |    FOREARM |     WRIST | \n",
       "|---|---|---|---|---|---|\n",
       "| Min.   :  1.00   | Min.   : 0.00    | Min.   :0.995    | Min.   :22.00    | Min.   :118.5    | Min.   :29.50    | Min.   :18.10    | Min.   :31.10    | Min.   : 79.30   | Min.   : 69.40   | Min.   : 85.0    | Min.   :47.20    | Min.   :33.00    | Min.   :19.1     | Min.   :24.80    | Min.   :21.00    | Min.   :15.80    | \n",
       "| 1st Qu.: 63.75   | 1st Qu.:12.80    | 1st Qu.:1.041    | 1st Qu.:35.75    | 1st Qu.:159.0    | 1st Qu.:68.25    | 1st Qu.:23.10    | 1st Qu.:36.40    | 1st Qu.: 94.35   | 1st Qu.: 84.58   | 1st Qu.: 95.5    | 1st Qu.:56.00    | 1st Qu.:36.98    | 1st Qu.:22.0     | 1st Qu.:30.20    | 1st Qu.:27.30    | 1st Qu.:17.60    | \n",
       "| Median :126.50   | Median :19.00    | Median :1.055    | Median :43.00    | Median :176.5    | Median :70.00    | Median :25.05    | Median :38.00    | Median : 99.65   | Median : 90.95   | Median : 99.3    | Median :59.00    | Median :38.50    | Median :22.8     | Median :32.05    | Median :28.70    | Median :18.30    | \n",
       "| Mean   :126.50   | Mean   :18.94    | Mean   :1.056    | Mean   :44.88    | Mean   :178.9    | Mean   :70.15    | Mean   :25.44    | Mean   :37.99    | Mean   :100.82   | Mean   : 92.56   | Mean   : 99.9    | Mean   :59.41    | Mean   :38.59    | Mean   :23.1     | Mean   :32.27    | Mean   :28.66    | Mean   :18.23    | \n",
       "| 3rd Qu.:189.25   | 3rd Qu.:24.60    | 3rd Qu.:1.070    | 3rd Qu.:54.00    | 3rd Qu.:197.0    | 3rd Qu.:72.25    | 3rd Qu.:27.32    | 3rd Qu.:39.42    | 3rd Qu.:105.38   | 3rd Qu.: 99.33   | 3rd Qu.:103.5    | 3rd Qu.:62.35    | 3rd Qu.:39.92    | 3rd Qu.:24.0     | 3rd Qu.:34.33    | 3rd Qu.:30.00    | 3rd Qu.:18.80    | \n",
       "| Max.   :252.00   | Max.   :45.10    | Max.   :1.109    | Max.   :81.00    | Max.   :363.1    | Max.   :77.75    | Max.   :48.90    | Max.   :51.20    | Max.   :136.20   | Max.   :148.10   | Max.   :147.7    | Max.   :87.30    | Max.   :49.10    | Max.   :33.9     | Max.   :45.00    | Max.   :34.90    | Max.   :21.40    | \n",
       "\n",
       "\n"
      ],
      "text/plain": [
       "       IDNO           BODYFAT         DENSITY           AGE       \n",
       "1 Min.   :  1.00   Min.   : 0.00   Min.   :0.995   Min.   :22.00  \n",
       "2 1st Qu.: 63.75   1st Qu.:12.80   1st Qu.:1.041   1st Qu.:35.75  \n",
       "3 Median :126.50   Median :19.00   Median :1.055   Median :43.00  \n",
       "4 Mean   :126.50   Mean   :18.94   Mean   :1.056   Mean   :44.88  \n",
       "5 3rd Qu.:189.25   3rd Qu.:24.60   3rd Qu.:1.070   3rd Qu.:54.00  \n",
       "6 Max.   :252.00   Max.   :45.10   Max.   :1.109   Max.   :81.00  \n",
       "      WEIGHT          HEIGHT        ADIPOSITY          NECK      \n",
       "1 Min.   :118.5   Min.   :29.50   Min.   :18.10   Min.   :31.10  \n",
       "2 1st Qu.:159.0   1st Qu.:68.25   1st Qu.:23.10   1st Qu.:36.40  \n",
       "3 Median :176.5   Median :70.00   Median :25.05   Median :38.00  \n",
       "4 Mean   :178.9   Mean   :70.15   Mean   :25.44   Mean   :37.99  \n",
       "5 3rd Qu.:197.0   3rd Qu.:72.25   3rd Qu.:27.32   3rd Qu.:39.42  \n",
       "6 Max.   :363.1   Max.   :77.75   Max.   :48.90   Max.   :51.20  \n",
       "      CHEST           ABDOMEN            HIP            THIGH      \n",
       "1 Min.   : 79.30   Min.   : 69.40   Min.   : 85.0   Min.   :47.20  \n",
       "2 1st Qu.: 94.35   1st Qu.: 84.58   1st Qu.: 95.5   1st Qu.:56.00  \n",
       "3 Median : 99.65   Median : 90.95   Median : 99.3   Median :59.00  \n",
       "4 Mean   :100.82   Mean   : 92.56   Mean   : 99.9   Mean   :59.41  \n",
       "5 3rd Qu.:105.38   3rd Qu.: 99.33   3rd Qu.:103.5   3rd Qu.:62.35  \n",
       "6 Max.   :136.20   Max.   :148.10   Max.   :147.7   Max.   :87.30  \n",
       "       KNEE           ANKLE          BICEPS         FOREARM     \n",
       "1 Min.   :33.00   Min.   :19.1   Min.   :24.80   Min.   :21.00  \n",
       "2 1st Qu.:36.98   1st Qu.:22.0   1st Qu.:30.20   1st Qu.:27.30  \n",
       "3 Median :38.50   Median :22.8   Median :32.05   Median :28.70  \n",
       "4 Mean   :38.59   Mean   :23.1   Mean   :32.27   Mean   :28.66  \n",
       "5 3rd Qu.:39.92   3rd Qu.:24.0   3rd Qu.:34.33   3rd Qu.:30.00  \n",
       "6 Max.   :49.10   Max.   :33.9   Max.   :45.00   Max.   :34.90  \n",
       "      WRIST      \n",
       "1 Min.   :15.80  \n",
       "2 1st Qu.:17.60  \n",
       "3 Median :18.30  \n",
       "4 Mean   :18.23  \n",
       "5 3rd Qu.:18.80  \n",
       "6 Max.   :21.40  "
      ]
     },
     "metadata": {},
     "output_type": "display_data"
    }
   ],
   "source": [
    "xtable(summary(BodyFat))"
   ]
  },
  {
   "cell_type": "code",
   "execution_count": 6,
   "metadata": {},
   "outputs": [
    {
     "data": {},
     "metadata": {},
     "output_type": "display_data"
    },
    {
     "data": {
      "image/png": "[encoded data removed]",
      "text/plain": [
       "plot without title"
      ]
     },
     "metadata": {},
     "output_type": "display_data"
    }
   ],
   "source": [
    "ggplot(stack(BodyFat[ ,-1]), aes(x = ind, y = values)) + geom_boxplot()"
   ]
  },
  {
   "cell_type": "markdown",
   "metadata": {},
   "source": [
    "From the boxplot above, we can see `WEIGHT` and `HEIGHT` have obvious extremums. Later we'll check these two variables and see what's the extremums.  \n",
    "\n",
    "Sort the dataset by each variable, we find:  \n",
    "\n",
    "* the 39th guy is the extremum of `WEIGHT`, `ADIOPOSITY`, `NECK`, `CHEST`, `ABDOMEN`, `HIP`, `THIGH`, `KNEE` and `BICEPS`;\n",
    "\n",
    "* the 42th guy is the extremum of `HEIGHT`;\n",
    "\n",
    "* the 182th guy is the extremum of `DENSITY`, `WEIGHT`, `ADIOPOSITY`, `CHEST`;\n",
    "\n",
    "* the 216th guy is the extremum of `DENSITY`;"
   ]
  },
  {
   "cell_type": "markdown",
   "metadata": {},
   "source": [
    "As we all know, percent body fat `BODYFAT` and density determined from underwater weighing `DENSITY` are correlated. In fact, there's a linear relation between these two variables.  "
   ]
  },
  {
   "cell_type": "code",
   "execution_count": 7,
   "metadata": {},
   "outputs": [
    {
     "data": {
      "image/png": "[encoded data removed]",
      "text/plain": [
       "plot without title"
      ]
     },
     "metadata": {},
     "output_type": "display_data"
    }
   ],
   "source": [
    "plot(BodyFat$BODYFAT ~ BodyFat$DENSITY)\n",
    "text(BodyFat$DENSITY[c(48,76,96)], BodyFat$BODYFAT[c(48,76,96)], labels=BodyFat$IDNO[c(48,76,96)], cex=1, pos=4, col=\"red\")"
   ]
  },
  {
   "cell_type": "markdown",
   "metadata": {},
   "source": [
    "We noticed the 48th, 76th and 96th guys do not follow the linear relationship between `DENSITY` and `BODYFAT`. Since we don't know which measurement is inaccurate, we'll just remove them from the dataset.  "
   ]
  },
  {
   "cell_type": "markdown",
   "metadata": {},
   "source": [
    "Also, We'll remove `DENSITY` from the dataset and use `BODYFAT` as response variable in our regression model.  "
   ]
  },
  {
   "cell_type": "code",
   "execution_count": 8,
   "metadata": {},
   "outputs": [],
   "source": [
    "bodyfat = BodyFat[ ,-c(1,3)]"
   ]
  },
  {
   "cell_type": "markdown",
   "metadata": {},
   "source": [
    "### 1.2 Extremum"
   ]
  },
  {
   "cell_type": "markdown",
   "metadata": {},
   "source": [
    "Now, let's sort the dataset by `BODYFAT`, `WEIGHT` and `HEIGHT` and see the extremums.\n",
    "\n",
    "* Deal with the extremum of `BODYFAT`.  "
   ]
  },
  {
   "cell_type": "code",
   "execution_count": 9,
   "metadata": {
    "scrolled": true
   },
   "outputs": [
    {
     "data": {
      "text/html": [
       "<table>\n",
       "<thead><tr><th scope=col>IDNO</th><th scope=col>BODYFAT</th><th scope=col>DENSITY</th><th scope=col>AGE</th><th scope=col>WEIGHT</th><th scope=col>HEIGHT</th><th scope=col>ADIPOSITY</th><th scope=col>NECK</th><th scope=col>CHEST</th><th scope=col>ABDOMEN</th><th scope=col>HIP</th><th scope=col>THIGH</th><th scope=col>KNEE</th><th scope=col>ANKLE</th><th scope=col>BICEPS</th><th scope=col>FOREARM</th><th scope=col>WRIST</th></tr></thead>\n",
       "<tbody>\n",
       "\t<tr><td>182   </td><td>0.0   </td><td>1.1089</td><td>40    </td><td>118.50</td><td>68.00 </td><td>18.1  </td><td>33.8  </td><td>79.3  </td><td>69.4  </td><td>85.0  </td><td>47.2  </td><td>33.5  </td><td>20.2  </td><td>27.7  </td><td>24.6  </td><td>16.5  </td></tr>\n",
       "\t<tr><td>172   </td><td>1.9   </td><td>1.0983</td><td>35    </td><td>125.75</td><td>65.50 </td><td>20.6  </td><td>34.0  </td><td>90.8  </td><td>75.0  </td><td>89.2  </td><td>50.0  </td><td>34.8  </td><td>22.0  </td><td>24.8  </td><td>25.9  </td><td>16.9  </td></tr>\n",
       "\t<tr><td>171   </td><td>4.1   </td><td>1.0926</td><td>35    </td><td>152.25</td><td>67.75 </td><td>23.4  </td><td>37.0  </td><td>92.2  </td><td>81.9  </td><td>92.8  </td><td>54.7  </td><td>36.2  </td><td>22.1  </td><td>30.4  </td><td>27.4  </td><td>17.7  </td></tr>\n",
       "\t<tr><td> 26   </td><td>4.6   </td><td>1.0911</td><td>27    </td><td>159.25</td><td>71.50 </td><td>21.9  </td><td>35.7  </td><td>89.6  </td><td>79.7  </td><td>96.5  </td><td>55.0  </td><td>36.7  </td><td>22.5  </td><td>29.9  </td><td>28.2  </td><td>17.7  </td></tr>\n",
       "\t<tr><td> 29   </td><td>4.7   </td><td>1.0910</td><td>27    </td><td>133.25</td><td>64.75 </td><td>22.4  </td><td>36.4  </td><td>93.5  </td><td>73.9  </td><td>88.5  </td><td>50.1  </td><td>34.5  </td><td>21.3  </td><td>30.5  </td><td>27.9  </td><td>17.2  </td></tr>\n",
       "</tbody>\n",
       "</table>\n"
      ],
      "text/latex": [
       "\\begin{tabular}{r|lllllllllllllllll}\n",
       " IDNO & BODYFAT & DENSITY & AGE & WEIGHT & HEIGHT & ADIPOSITY & NECK & CHEST & ABDOMEN & HIP & THIGH & KNEE & ANKLE & BICEPS & FOREARM & WRIST\\\\\n",
       "\\hline\n",
       "\t 182    & 0.0    & 1.1089 & 40     & 118.50 & 68.00  & 18.1   & 33.8   & 79.3   & 69.4   & 85.0   & 47.2   & 33.5   & 20.2   & 27.7   & 24.6   & 16.5  \\\\\n",
       "\t 172    & 1.9    & 1.0983 & 35     & 125.75 & 65.50  & 20.6   & 34.0   & 90.8   & 75.0   & 89.2   & 50.0   & 34.8   & 22.0   & 24.8   & 25.9   & 16.9  \\\\\n",
       "\t 171    & 4.1    & 1.0926 & 35     & 152.25 & 67.75  & 23.4   & 37.0   & 92.2   & 81.9   & 92.8   & 54.7   & 36.2   & 22.1   & 30.4   & 27.4   & 17.7  \\\\\n",
       "\t  26    & 4.6    & 1.0911 & 27     & 159.25 & 71.50  & 21.9   & 35.7   & 89.6   & 79.7   & 96.5   & 55.0   & 36.7   & 22.5   & 29.9   & 28.2   & 17.7  \\\\\n",
       "\t  29    & 4.7    & 1.0910 & 27     & 133.25 & 64.75  & 22.4   & 36.4   & 93.5   & 73.9   & 88.5   & 50.1   & 34.5   & 21.3   & 30.5   & 27.9   & 17.2  \\\\\n",
       "\\end{tabular}\n"
      ],
      "text/markdown": [
       "\n",
       "IDNO | BODYFAT | DENSITY | AGE | WEIGHT | HEIGHT | ADIPOSITY | NECK | CHEST | ABDOMEN | HIP | THIGH | KNEE | ANKLE | BICEPS | FOREARM | WRIST | \n",
       "|---|---|---|---|---|\n",
       "| 182    | 0.0    | 1.1089 | 40     | 118.50 | 68.00  | 18.1   | 33.8   | 79.3   | 69.4   | 85.0   | 47.2   | 33.5   | 20.2   | 27.7   | 24.6   | 16.5   | \n",
       "| 172    | 1.9    | 1.0983 | 35     | 125.75 | 65.50  | 20.6   | 34.0   | 90.8   | 75.0   | 89.2   | 50.0   | 34.8   | 22.0   | 24.8   | 25.9   | 16.9   | \n",
       "| 171    | 4.1    | 1.0926 | 35     | 152.25 | 67.75  | 23.4   | 37.0   | 92.2   | 81.9   | 92.8   | 54.7   | 36.2   | 22.1   | 30.4   | 27.4   | 17.7   | \n",
       "|  26    | 4.6    | 1.0911 | 27     | 159.25 | 71.50  | 21.9   | 35.7   | 89.6   | 79.7   | 96.5   | 55.0   | 36.7   | 22.5   | 29.9   | 28.2   | 17.7   | \n",
       "|  29    | 4.7    | 1.0910 | 27     | 133.25 | 64.75  | 22.4   | 36.4   | 93.5   | 73.9   | 88.5   | 50.1   | 34.5   | 21.3   | 30.5   | 27.9   | 17.2   | \n",
       "\n",
       "\n"
      ],
      "text/plain": [
       "  IDNO BODYFAT DENSITY AGE WEIGHT HEIGHT ADIPOSITY NECK CHEST ABDOMEN HIP \n",
       "1 182  0.0     1.1089  40  118.50 68.00  18.1      33.8 79.3  69.4    85.0\n",
       "2 172  1.9     1.0983  35  125.75 65.50  20.6      34.0 90.8  75.0    89.2\n",
       "3 171  4.1     1.0926  35  152.25 67.75  23.4      37.0 92.2  81.9    92.8\n",
       "4  26  4.6     1.0911  27  159.25 71.50  21.9      35.7 89.6  79.7    96.5\n",
       "5  29  4.7     1.0910  27  133.25 64.75  22.4      36.4 93.5  73.9    88.5\n",
       "  THIGH KNEE ANKLE BICEPS FOREARM WRIST\n",
       "1 47.2  33.5 20.2  27.7   24.6    16.5 \n",
       "2 50.0  34.8 22.0  24.8   25.9    16.9 \n",
       "3 54.7  36.2 22.1  30.4   27.4    17.7 \n",
       "4 55.0  36.7 22.5  29.9   28.2    17.7 \n",
       "5 50.1  34.5 21.3  30.5   27.9    17.2 "
      ]
     },
     "metadata": {},
     "output_type": "display_data"
    },
    {
     "data": {
      "text/html": [
       "<table>\n",
       "<thead><tr><th scope=col>IDNO</th><th scope=col>BODYFAT</th><th scope=col>DENSITY</th><th scope=col>AGE</th><th scope=col>WEIGHT</th><th scope=col>HEIGHT</th><th scope=col>ADIPOSITY</th><th scope=col>NECK</th><th scope=col>CHEST</th><th scope=col>ABDOMEN</th><th scope=col>HIP</th><th scope=col>THIGH</th><th scope=col>KNEE</th><th scope=col>ANKLE</th><th scope=col>BICEPS</th><th scope=col>FOREARM</th><th scope=col>WRIST</th></tr></thead>\n",
       "<tbody>\n",
       "\t<tr><td>216   </td><td>45.1  </td><td>0.9950</td><td>51    </td><td>219.00</td><td>64.00 </td><td>37.6  </td><td>41.2  </td><td>119.8 </td><td>122.1 </td><td>112.8 </td><td>62.5  </td><td>36.9  </td><td>23.6  </td><td>34.7  </td><td>29.1  </td><td>18.4  </td></tr>\n",
       "\t<tr><td> 36   </td><td>38.2  </td><td>1.0101</td><td>49    </td><td>191.75</td><td>65.00 </td><td>32.0  </td><td>38.4  </td><td>118.5 </td><td>113.1 </td><td>113.8 </td><td>61.9  </td><td>38.3  </td><td>21.9  </td><td>32.0  </td><td>29.8  </td><td>17.0  </td></tr>\n",
       "\t<tr><td>192   </td><td>36.5  </td><td>1.0140</td><td>42    </td><td>244.25</td><td>76.00 </td><td>29.8  </td><td>41.8  </td><td>115.2 </td><td>113.7 </td><td>112.4 </td><td>68.5  </td><td>45.0  </td><td>25.5  </td><td>37.1  </td><td>31.2  </td><td>19.9  </td></tr>\n",
       "\t<tr><td>169   </td><td>34.7  </td><td>1.0180</td><td>35    </td><td>228.25</td><td>69.50 </td><td>33.3  </td><td>40.4  </td><td>114.9 </td><td>115.9 </td><td>111.9 </td><td>74.4  </td><td>40.6  </td><td>24.0  </td><td>36.1  </td><td>31.8  </td><td>18.8  </td></tr>\n",
       "\t<tr><td> 39   </td><td>33.8  </td><td>1.0202</td><td>46    </td><td>363.15</td><td>72.25 </td><td>48.9  </td><td>51.2  </td><td>136.2 </td><td>148.1 </td><td>147.7 </td><td>87.3  </td><td>49.1  </td><td>29.6  </td><td>45.0  </td><td>29.0  </td><td>21.4  </td></tr>\n",
       "</tbody>\n",
       "</table>\n"
      ],
      "text/latex": [
       "\\begin{tabular}{r|lllllllllllllllll}\n",
       " IDNO & BODYFAT & DENSITY & AGE & WEIGHT & HEIGHT & ADIPOSITY & NECK & CHEST & ABDOMEN & HIP & THIGH & KNEE & ANKLE & BICEPS & FOREARM & WRIST\\\\\n",
       "\\hline\n",
       "\t 216    & 45.1   & 0.9950 & 51     & 219.00 & 64.00  & 37.6   & 41.2   & 119.8  & 122.1  & 112.8  & 62.5   & 36.9   & 23.6   & 34.7   & 29.1   & 18.4  \\\\\n",
       "\t  36    & 38.2   & 1.0101 & 49     & 191.75 & 65.00  & 32.0   & 38.4   & 118.5  & 113.1  & 113.8  & 61.9   & 38.3   & 21.9   & 32.0   & 29.8   & 17.0  \\\\\n",
       "\t 192    & 36.5   & 1.0140 & 42     & 244.25 & 76.00  & 29.8   & 41.8   & 115.2  & 113.7  & 112.4  & 68.5   & 45.0   & 25.5   & 37.1   & 31.2   & 19.9  \\\\\n",
       "\t 169    & 34.7   & 1.0180 & 35     & 228.25 & 69.50  & 33.3   & 40.4   & 114.9  & 115.9  & 111.9  & 74.4   & 40.6   & 24.0   & 36.1   & 31.8   & 18.8  \\\\\n",
       "\t  39    & 33.8   & 1.0202 & 46     & 363.15 & 72.25  & 48.9   & 51.2   & 136.2  & 148.1  & 147.7  & 87.3   & 49.1   & 29.6   & 45.0   & 29.0   & 21.4  \\\\\n",
       "\\end{tabular}\n"
      ],
      "text/markdown": [
       "\n",
       "IDNO | BODYFAT | DENSITY | AGE | WEIGHT | HEIGHT | ADIPOSITY | NECK | CHEST | ABDOMEN | HIP | THIGH | KNEE | ANKLE | BICEPS | FOREARM | WRIST | \n",
       "|---|---|---|---|---|\n",
       "| 216    | 45.1   | 0.9950 | 51     | 219.00 | 64.00  | 37.6   | 41.2   | 119.8  | 122.1  | 112.8  | 62.5   | 36.9   | 23.6   | 34.7   | 29.1   | 18.4   | \n",
       "|  36    | 38.2   | 1.0101 | 49     | 191.75 | 65.00  | 32.0   | 38.4   | 118.5  | 113.1  | 113.8  | 61.9   | 38.3   | 21.9   | 32.0   | 29.8   | 17.0   | \n",
       "| 192    | 36.5   | 1.0140 | 42     | 244.25 | 76.00  | 29.8   | 41.8   | 115.2  | 113.7  | 112.4  | 68.5   | 45.0   | 25.5   | 37.1   | 31.2   | 19.9   | \n",
       "| 169    | 34.7   | 1.0180 | 35     | 228.25 | 69.50  | 33.3   | 40.4   | 114.9  | 115.9  | 111.9  | 74.4   | 40.6   | 24.0   | 36.1   | 31.8   | 18.8   | \n",
       "|  39    | 33.8   | 1.0202 | 46     | 363.15 | 72.25  | 48.9   | 51.2   | 136.2  | 148.1  | 147.7  | 87.3   | 49.1   | 29.6   | 45.0   | 29.0   | 21.4   | \n",
       "\n",
       "\n"
      ],
      "text/plain": [
       "  IDNO BODYFAT DENSITY AGE WEIGHT HEIGHT ADIPOSITY NECK CHEST ABDOMEN HIP  \n",
       "1 216  45.1    0.9950  51  219.00 64.00  37.6      41.2 119.8 122.1   112.8\n",
       "2  36  38.2    1.0101  49  191.75 65.00  32.0      38.4 118.5 113.1   113.8\n",
       "3 192  36.5    1.0140  42  244.25 76.00  29.8      41.8 115.2 113.7   112.4\n",
       "4 169  34.7    1.0180  35  228.25 69.50  33.3      40.4 114.9 115.9   111.9\n",
       "5  39  33.8    1.0202  46  363.15 72.25  48.9      51.2 136.2 148.1   147.7\n",
       "  THIGH KNEE ANKLE BICEPS FOREARM WRIST\n",
       "1 62.5  36.9 23.6  34.7   29.1    18.4 \n",
       "2 61.9  38.3 21.9  32.0   29.8    17.0 \n",
       "3 68.5  45.0 25.5  37.1   31.2    19.9 \n",
       "4 74.4  40.6 24.0  36.1   31.8    18.8 \n",
       "5 87.3  49.1 29.6  45.0   29.0    21.4 "
      ]
     },
     "metadata": {},
     "output_type": "display_data"
    }
   ],
   "source": [
    "head(BodyFat %>% arrange(BODYFAT), n=5)\n",
    "head(BodyFat %>% arrange(desc(BODYFAT)), n=5)"
   ]
  },
  {
   "cell_type": "markdown",
   "metadata": {},
   "source": [
    "We noticed the 182th guy has 0.0% bodyfat, and the 216th guy has 45.1% bodyfat, these are basically impossible for human beings."
   ]
  },
  {
   "cell_type": "markdown",
   "metadata": {},
   "source": [
    "Since the relationship between `DENSITY` and `BODYFAT` is given as follows:\n",
    "\n",
    "$$ bodyfat = \\frac{495}{density} - 450 $$\n",
    "\n",
    "<center> unit of measurements: $bodyfat(\\%), density(g/cm^3)$ </center>\n",
    "\n",
    "We can use `DENSITY` to calculate bodyfat, and compare it with `BODYFAT` given by the dataset. "
   ]
  },
  {
   "cell_type": "code",
   "execution_count": 10,
   "metadata": {},
   "outputs": [],
   "source": [
    "BodyFat$cal_fat = 495 / BodyFat$DENSITY - 450"
   ]
  },
  {
   "cell_type": "markdown",
   "metadata": {},
   "source": [
    "People whose `BODYFAT` and calculated bodyfat differs greatly list following:"
   ]
  },
  {
   "cell_type": "code",
   "execution_count": 11,
   "metadata": {},
   "outputs": [
    {
     "data": {
      "text/html": [
       "<table>\n",
       "<thead><tr><th></th><th scope=col>BODYFAT</th><th scope=col>DENSITY</th><th scope=col>cal_fat</th></tr></thead>\n",
       "<tbody>\n",
       "\t<tr><th scope=row>96</th><td>17.3      </td><td>1.0991    </td><td> 0.3684833</td></tr>\n",
       "\t<tr><th scope=row>48</th><td> 6.4      </td><td>1.0665    </td><td>14.1350211</td></tr>\n",
       "\t<tr><th scope=row>76</th><td>18.3      </td><td>1.0666    </td><td>14.0915057</td></tr>\n",
       "\t<tr><th scope=row>182</th><td> 0.0      </td><td>1.1089    </td><td>-3.6116873</td></tr>\n",
       "\t<tr><th scope=row>216</th><td>45.1      </td><td>0.9950    </td><td>47.4874372</td></tr>\n",
       "</tbody>\n",
       "</table>\n"
      ],
      "text/latex": [
       "\\begin{tabular}{r|lll}\n",
       "  & BODYFAT & DENSITY & cal\\_fat\\\\\n",
       "\\hline\n",
       "\t96 & 17.3       & 1.0991     &  0.3684833\\\\\n",
       "\t48 &  6.4       & 1.0665     & 14.1350211\\\\\n",
       "\t76 & 18.3       & 1.0666     & 14.0915057\\\\\n",
       "\t182 &  0.0       & 1.1089     & -3.6116873\\\\\n",
       "\t216 & 45.1       & 0.9950     & 47.4874372\\\\\n",
       "\\end{tabular}\n"
      ],
      "text/markdown": [
       "\n",
       "| <!--/--> | BODYFAT | DENSITY | cal_fat | \n",
       "|---|---|---|---|---|\n",
       "| 96 | 17.3       | 1.0991     |  0.3684833 | \n",
       "| 48 |  6.4       | 1.0665     | 14.1350211 | \n",
       "| 76 | 18.3       | 1.0666     | 14.0915057 | \n",
       "| 182 |  0.0       | 1.1089     | -3.6116873 | \n",
       "| 216 | 45.1       | 0.9950     | 47.4874372 | \n",
       "\n",
       "\n"
      ],
      "text/plain": [
       "    BODYFAT DENSITY cal_fat   \n",
       "96  17.3    1.0991   0.3684833\n",
       "48   6.4    1.0665  14.1350211\n",
       "76  18.3    1.0666  14.0915057\n",
       "182  0.0    1.1089  -3.6116873\n",
       "216 45.1    0.9950  47.4874372"
      ]
     },
     "metadata": {},
     "output_type": "display_data"
    }
   ],
   "source": [
    "index = order(abs(BodyFat$cal_fat - BodyFat$BODYFAT), decreasing = TRUE)[1:5]\n",
    "BodyFat[index, c(2,3,18)]"
   ]
  },
  {
   "cell_type": "markdown",
   "metadata": {},
   "source": [
    "The 96th, 48th and 76th guys have been deleted in the former analysis. The calculated bodyfat for the 182th guy is negative and is impossible, so we remove him. The calculated bodyfat for the 216th guy is close to its `BODYFAT` in the dataset and is too much for a human, moreover, his `DENSITY` is smaller than water, so we remove him too."
   ]
  },
  {
   "cell_type": "markdown",
   "metadata": {},
   "source": [
    "* Deal with the extremum of `WEIGHT`."
   ]
  },
  {
   "cell_type": "code",
   "execution_count": 12,
   "metadata": {
    "scrolled": true
   },
   "outputs": [
    {
     "data": {
      "image/png": "[encoded data removed]",
      "text/plain": [
       "plot without title"
      ]
     },
     "metadata": {},
     "output_type": "display_data"
    }
   ],
   "source": [
    "options(repr.plot.width=4.875, repr.plot.height=2.5)\n",
    "stripchart(BodyFat$WEIGHT)"
   ]
  },
  {
   "cell_type": "markdown",
   "metadata": {},
   "source": [
    "We noticed there is a guy weights larger than 350 lbs."
   ]
  },
  {
   "cell_type": "code",
   "execution_count": 13,
   "metadata": {},
   "outputs": [
    {
     "data": {
      "text/html": [
       "<table>\n",
       "<thead><tr><th></th><th scope=col>IDNO</th><th scope=col>BODYFAT</th><th scope=col>DENSITY</th><th scope=col>AGE</th><th scope=col>WEIGHT</th><th scope=col>HEIGHT</th><th scope=col>ADIPOSITY</th><th scope=col>NECK</th><th scope=col>CHEST</th><th scope=col>ABDOMEN</th><th scope=col>HIP</th><th scope=col>THIGH</th><th scope=col>KNEE</th><th scope=col>ANKLE</th><th scope=col>BICEPS</th><th scope=col>FOREARM</th><th scope=col>WRIST</th><th scope=col>cal_fat</th></tr></thead>\n",
       "<tbody>\n",
       "\t<tr><th scope=row>39</th><td>39      </td><td>33.8    </td><td>1.0202  </td><td>46      </td><td>363.15  </td><td>72.25   </td><td>48.9    </td><td>51.2    </td><td>136.2   </td><td>148.1   </td><td>147.7   </td><td>87.3    </td><td>49.1    </td><td>29.6    </td><td>45      </td><td>29      </td><td>21.4    </td><td>35.19898</td></tr>\n",
       "</tbody>\n",
       "</table>\n"
      ],
      "text/latex": [
       "\\begin{tabular}{r|llllllllllllllllll}\n",
       "  & IDNO & BODYFAT & DENSITY & AGE & WEIGHT & HEIGHT & ADIPOSITY & NECK & CHEST & ABDOMEN & HIP & THIGH & KNEE & ANKLE & BICEPS & FOREARM & WRIST & cal\\_fat\\\\\n",
       "\\hline\n",
       "\t39 & 39       & 33.8     & 1.0202   & 46       & 363.15   & 72.25    & 48.9     & 51.2     & 136.2    & 148.1    & 147.7    & 87.3     & 49.1     & 29.6     & 45       & 29       & 21.4     & 35.19898\\\\\n",
       "\\end{tabular}\n"
      ],
      "text/markdown": [
       "\n",
       "| <!--/--> | IDNO | BODYFAT | DENSITY | AGE | WEIGHT | HEIGHT | ADIPOSITY | NECK | CHEST | ABDOMEN | HIP | THIGH | KNEE | ANKLE | BICEPS | FOREARM | WRIST | cal_fat | \n",
       "|---|\n",
       "| 39 | 39       | 33.8     | 1.0202   | 46       | 363.15   | 72.25    | 48.9     | 51.2     | 136.2    | 148.1    | 147.7    | 87.3     | 49.1     | 29.6     | 45       | 29       | 21.4     | 35.19898 | \n",
       "\n",
       "\n"
      ],
      "text/plain": [
       "   IDNO BODYFAT DENSITY AGE WEIGHT HEIGHT ADIPOSITY NECK CHEST ABDOMEN HIP  \n",
       "39 39   33.8    1.0202  46  363.15 72.25  48.9      51.2 136.2 148.1   147.7\n",
       "   THIGH KNEE ANKLE BICEPS FOREARM WRIST cal_fat \n",
       "39 87.3  49.1 29.6  45     29      21.4  35.19898"
      ]
     },
     "metadata": {},
     "output_type": "display_data"
    }
   ],
   "source": [
    "BodyFat[which.max(BodyFat$WEIGHT), ]  # the highest weight guy"
   ]
  },
  {
   "cell_type": "markdown",
   "metadata": {},
   "source": [
    "It is obvious that the highest weight guy has an unormal weight. We tried to recover the weight from his BMI and height, that is, `ADIPOSITY` and `HEIGHT` from the dataset. \n",
    "\n",
    "The BMI calculation formula is: \n",
    "$$ BMI = \\frac{weight}{height^2} $$  \n",
    "<center> unit of measurements: $weight(kg), height(m)$ </center>"
   ]
  },
  {
   "cell_type": "code",
   "execution_count": 14,
   "metadata": {},
   "outputs": [
    {
     "data": {
      "text/html": [
       "363.066563598171"
      ],
      "text/latex": [
       "363.066563598171"
      ],
      "text/markdown": [
       "363.066563598171"
      ],
      "text/plain": [
       "[1] 363.0666"
      ]
     },
     "metadata": {},
     "output_type": "display_data"
    }
   ],
   "source": [
    "weight_kg_39 = 48.9 * (72.25 * 2.54 / 100)^2 # the 39th guy's weight in kg\n",
    "(weight_lb_39 = weight_kg_39 / 0.45359237)   # the 39th guy's weight in lb"
   ]
  },
  {
   "cell_type": "markdown",
   "metadata": {},
   "source": [
    "It's almost the same as his `WEIGHT` from the dataset, which means the data is the true value. And because it's too extreme and not representative, we can just remove the 39th guy."
   ]
  },
  {
   "cell_type": "markdown",
   "metadata": {},
   "source": [
    "* Deal with the extremum of `HEIGHT`"
   ]
  },
  {
   "cell_type": "code",
   "execution_count": 15,
   "metadata": {},
   "outputs": [
    {
     "data": {
      "image/png": "[encoded data removed]",
      "text/plain": [
       "plot without title"
      ]
     },
     "metadata": {},
     "output_type": "display_data"
    }
   ],
   "source": [
    "options(repr.plot.width=4.875, repr.plot.height=2.5)\n",
    "stripchart(BodyFat$HEIGHT)"
   ]
  },
  {
   "cell_type": "code",
   "execution_count": 16,
   "metadata": {},
   "outputs": [
    {
     "data": {
      "text/html": [
       "<table>\n",
       "<thead><tr><th></th><th scope=col>IDNO</th><th scope=col>BODYFAT</th><th scope=col>DENSITY</th><th scope=col>AGE</th><th scope=col>WEIGHT</th><th scope=col>HEIGHT</th><th scope=col>ADIPOSITY</th><th scope=col>NECK</th><th scope=col>CHEST</th><th scope=col>ABDOMEN</th><th scope=col>HIP</th><th scope=col>THIGH</th><th scope=col>KNEE</th><th scope=col>ANKLE</th><th scope=col>BICEPS</th><th scope=col>FOREARM</th><th scope=col>WRIST</th><th scope=col>cal_fat</th></tr></thead>\n",
       "<tbody>\n",
       "\t<tr><th scope=row>42</th><td>42      </td><td>31.7    </td><td>1.025   </td><td>44      </td><td>205     </td><td>29.5    </td><td>29.9    </td><td>36.6    </td><td>106     </td><td>104.3   </td><td>115.5   </td><td>70.6    </td><td>42.5    </td><td>23.7    </td><td>33.6    </td><td>28.7    </td><td>17.4    </td><td>32.92683</td></tr>\n",
       "</tbody>\n",
       "</table>\n"
      ],
      "text/latex": [
       "\\begin{tabular}{r|llllllllllllllllll}\n",
       "  & IDNO & BODYFAT & DENSITY & AGE & WEIGHT & HEIGHT & ADIPOSITY & NECK & CHEST & ABDOMEN & HIP & THIGH & KNEE & ANKLE & BICEPS & FOREARM & WRIST & cal\\_fat\\\\\n",
       "\\hline\n",
       "\t42 & 42       & 31.7     & 1.025    & 44       & 205      & 29.5     & 29.9     & 36.6     & 106      & 104.3    & 115.5    & 70.6     & 42.5     & 23.7     & 33.6     & 28.7     & 17.4     & 32.92683\\\\\n",
       "\\end{tabular}\n"
      ],
      "text/markdown": [
       "\n",
       "| <!--/--> | IDNO | BODYFAT | DENSITY | AGE | WEIGHT | HEIGHT | ADIPOSITY | NECK | CHEST | ABDOMEN | HIP | THIGH | KNEE | ANKLE | BICEPS | FOREARM | WRIST | cal_fat | \n",
       "|---|\n",
       "| 42 | 42       | 31.7     | 1.025    | 44       | 205      | 29.5     | 29.9     | 36.6     | 106      | 104.3    | 115.5    | 70.6     | 42.5     | 23.7     | 33.6     | 28.7     | 17.4     | 32.92683 | \n",
       "\n",
       "\n"
      ],
      "text/plain": [
       "   IDNO BODYFAT DENSITY AGE WEIGHT HEIGHT ADIPOSITY NECK CHEST ABDOMEN HIP  \n",
       "42 42   31.7    1.025   44  205    29.5   29.9      36.6 106   104.3   115.5\n",
       "   THIGH KNEE ANKLE BICEPS FOREARM WRIST cal_fat \n",
       "42 70.6  42.5 23.7  33.6   28.7    17.4  32.92683"
      ]
     },
     "metadata": {},
     "output_type": "display_data"
    }
   ],
   "source": [
    "BodyFat[which.min(BodyFat$HEIGHT), ]  # the lowest height guy"
   ]
  },
  {
   "cell_type": "code",
   "execution_count": 17,
   "metadata": {},
   "outputs": [
    {
     "data": {
      "text/html": [
       "69.428932849278"
      ],
      "text/latex": [
       "69.428932849278"
      ],
      "text/markdown": [
       "69.428932849278"
      ],
      "text/plain": [
       "[1] 69.42893"
      ]
     },
     "metadata": {},
     "output_type": "display_data"
    }
   ],
   "source": [
    "height_m_42 =  sqrt( 205 * 0.45359237 / 29.9) # the 42th guy's height in m\n",
    "(height_inch_42 = height_m_42 * 100 / 2.54)   # the 42th guy's height in inch"
   ]
  },
  {
   "cell_type": "markdown",
   "metadata": {},
   "source": [
    "So we can recover his height from his BMI and weight record. And the height for the 42th guy should be around 69.4 inches."
   ]
  },
  {
   "cell_type": "code",
   "execution_count": 18,
   "metadata": {
    "collapsed": true
   },
   "outputs": [],
   "source": [
    "bodyfat$HEIGHT[42] = 69.4\n",
    "bodyfat = bodyfat[-c(48,76,96,182,216,39), ] # dataset we used: bodyfat"
   ]
  },
  {
   "cell_type": "markdown",
   "metadata": {},
   "source": [
    "### 1.3 Leverages"
   ]
  },
  {
   "cell_type": "code",
   "execution_count": 19,
   "metadata": {},
   "outputs": [
    {
     "name": "stdout",
     "output_type": "stream",
     "text": [
      "'data.frame':\t246 obs. of  15 variables:\n",
      " $ BODYFAT  : num  12.6 6.9 24.6 10.9 27.8 20.6 19 12.8 5.1 12 ...\n",
      " $ AGE      : int  23 22 22 26 24 24 26 25 25 23 ...\n",
      " $ WEIGHT   : num  154 173 154 185 184 ...\n",
      " $ HEIGHT   : num  67.8 72.2 66.2 72.2 71.2 ...\n",
      " $ ADIPOSITY: num  23.7 23.4 24.7 24.9 25.6 26.5 26.2 23.6 24.6 25.8 ...\n",
      " $ NECK     : num  36.2 38.5 34 37.4 34.4 39 36.4 37.8 38.1 42.1 ...\n",
      " $ CHEST    : num  93.1 93.6 95.8 101.8 97.3 ...\n",
      " $ ABDOMEN  : num  85.2 83 87.9 86.4 100 94.4 90.7 88.5 82.5 88.6 ...\n",
      " $ HIP      : num  94.5 98.7 99.2 101.2 101.9 ...\n",
      " $ THIGH    : num  59 58.7 59.6 60.1 63.2 66 58.4 60 62.9 63.1 ...\n",
      " $ KNEE     : num  37.3 37.3 38.9 37.3 42.2 42 38.3 39.4 38.3 41.7 ...\n",
      " $ ANKLE    : num  21.9 23.4 24 22.8 24 25.6 22.9 23.2 23.8 25 ...\n",
      " $ BICEPS   : num  32 30.5 28.8 32.4 32.2 35.7 31.9 30.5 35.9 35.6 ...\n",
      " $ FOREARM  : num  27.4 28.9 25.2 29.4 27.7 30.6 27.8 29 31.1 30 ...\n",
      " $ WRIST    : num  17.1 18.2 16.6 18.2 17.7 18.8 17.7 18.8 18.2 19.2 ...\n"
     ]
    }
   ],
   "source": [
    "str(bodyfat)"
   ]
  },
  {
   "cell_type": "markdown",
   "metadata": {},
   "source": [
    "The modified dataset has 246 observations and 15 variables now.  \n",
    "Let's fit a Multiple Linear Regression model and find out the possible outliers and leverages."
   ]
  },
  {
   "cell_type": "code",
   "execution_count": 20,
   "metadata": {},
   "outputs": [
    {
     "data": {
      "text/plain": [
       "\n",
       "Call:\n",
       "lm(formula = BODYFAT ~ ., data = bodyfat)\n",
       "\n",
       "Residuals:\n",
       "    Min      1Q  Median      3Q     Max \n",
       "-9.9885 -2.8310 -0.0517  2.7603  9.2289 \n",
       "\n",
       "Coefficients:\n",
       "             Estimate Std. Error t value Pr(>|t|)    \n",
       "(Intercept) -15.44663   38.18531  -0.405 0.686206    \n",
       "AGE           0.06412    0.02979   2.152 0.032395 *  \n",
       "WEIGHT       -0.06773    0.10706  -0.633 0.527588    \n",
       "HEIGHT        0.09319    0.53047   0.176 0.860708    \n",
       "ADIPOSITY     0.45740    0.77253   0.592 0.554373    \n",
       "NECK         -0.37192    0.21713  -1.713 0.088067 .  \n",
       "CHEST        -0.13595    0.10512  -1.293 0.197205    \n",
       "ABDOMEN       0.83226    0.08662   9.608  < 2e-16 ***\n",
       "HIP          -0.18378    0.13547  -1.357 0.176244    \n",
       "THIGH         0.17237    0.13811   1.248 0.213273    \n",
       "KNEE         -0.01454    0.23032  -0.063 0.949733    \n",
       "ANKLE         0.14822    0.20727   0.715 0.475270    \n",
       "BICEPS        0.17031    0.15861   1.074 0.284030    \n",
       "FOREARM       0.24777    0.19319   1.282 0.200953    \n",
       "WRIST        -1.70314    0.49488  -3.442 0.000686 ***\n",
       "---\n",
       "Signif. codes:  0 ‘***’ 0.001 ‘**’ 0.01 ‘*’ 0.05 ‘.’ 0.1 ‘ ’ 1\n",
       "\n",
       "Residual standard error: 3.93 on 231 degrees of freedom\n",
       "Multiple R-squared:  0.7388,\tAdjusted R-squared:  0.7229 \n",
       "F-statistic: 46.66 on 14 and 231 DF,  p-value: < 2.2e-16\n"
      ]
     },
     "metadata": {},
     "output_type": "display_data"
    }
   ],
   "source": [
    "model = lm(BODYFAT ~ ., data = bodyfat)\n",
    "summary(model)"
   ]
  },
  {
   "cell_type": "markdown",
   "metadata": {},
   "source": [
    "Since anything above $\\frac{4}{n-p}$ can be classified as leverages, plot the Cook's distance and see who may be leverages."
   ]
  },
  {
   "cell_type": "code",
   "execution_count": 21,
   "metadata": {
    "scrolled": true
   },
   "outputs": [
    {
     "data": {
      "image/png": "[encoded data removed]",
      "text/plain": [
       "Plot with title “”"
      ]
     },
     "metadata": {},
     "output_type": "display_data"
    }
   ],
   "source": [
    "plot(model, which = 4)\n",
    "abline(h = 4 /(246 - 14), lty = 2, col = \"red\")"
   ]
  },
  {
   "cell_type": "code",
   "execution_count": 22,
   "metadata": {
    "scrolled": true
   },
   "outputs": [
    {
     "data": {
      "text/html": [
       "<table>\n",
       "<thead><tr><th></th><th scope=col>IDNO</th><th scope=col>BODYFAT</th><th scope=col>DENSITY</th><th scope=col>AGE</th><th scope=col>WEIGHT</th><th scope=col>HEIGHT</th><th scope=col>ADIPOSITY</th><th scope=col>NECK</th><th scope=col>CHEST</th><th scope=col>ABDOMEN</th><th scope=col>HIP</th><th scope=col>THIGH</th><th scope=col>KNEE</th><th scope=col>ANKLE</th><th scope=col>BICEPS</th><th scope=col>FOREARM</th><th scope=col>WRIST</th><th scope=col>cal_fat</th></tr></thead>\n",
       "<tbody>\n",
       "\t<tr><th scope=row>82</th><td> 82     </td><td>26.0    </td><td>1.0382  </td><td>64      </td><td>150.25  </td><td>67.25   </td><td>23.4    </td><td>38.1    </td><td>97.1    </td><td>89.0    </td><td>96.9    </td><td>54.8    </td><td>38.0    </td><td>22.0    </td><td>29.9    </td><td>25.2    </td><td>17.7    </td><td>26.78675</td></tr>\n",
       "\t<tr><th scope=row>86</th><td> 86     </td><td>25.8    </td><td>1.0386  </td><td>67      </td><td>167.00  </td><td>67.50   </td><td>26.0    </td><td>36.5    </td><td>98.9    </td><td>89.7    </td><td>96.2    </td><td>54.7    </td><td>37.8    </td><td>33.7    </td><td>32.4    </td><td>27.7    </td><td>18.2    </td><td>26.60312</td></tr>\n",
       "\t<tr><th scope=row>221</th><td>221     </td><td>12.7    </td><td>1.0706  </td><td>54      </td><td>153.25  </td><td>70.50   </td><td>24.5    </td><td>38.5    </td><td>99.0    </td><td>91.8    </td><td>96.2    </td><td>57.7    </td><td>38.1    </td><td>23.9    </td><td>31.4    </td><td>29.9    </td><td>18.9    </td><td>12.35756</td></tr>\n",
       "</tbody>\n",
       "</table>\n"
      ],
      "text/latex": [
       "\\begin{tabular}{r|llllllllllllllllll}\n",
       "  & IDNO & BODYFAT & DENSITY & AGE & WEIGHT & HEIGHT & ADIPOSITY & NECK & CHEST & ABDOMEN & HIP & THIGH & KNEE & ANKLE & BICEPS & FOREARM & WRIST & cal\\_fat\\\\\n",
       "\\hline\n",
       "\t82 &  82      & 26.0     & 1.0382   & 64       & 150.25   & 67.25    & 23.4     & 38.1     & 97.1     & 89.0     & 96.9     & 54.8     & 38.0     & 22.0     & 29.9     & 25.2     & 17.7     & 26.78675\\\\\n",
       "\t86 &  86      & 25.8     & 1.0386   & 67       & 167.00   & 67.50    & 26.0     & 36.5     & 98.9     & 89.7     & 96.2     & 54.7     & 37.8     & 33.7     & 32.4     & 27.7     & 18.2     & 26.60312\\\\\n",
       "\t221 & 221      & 12.7     & 1.0706   & 54       & 153.25   & 70.50    & 24.5     & 38.5     & 99.0     & 91.8     & 96.2     & 57.7     & 38.1     & 23.9     & 31.4     & 29.9     & 18.9     & 12.35756\\\\\n",
       "\\end{tabular}\n"
      ],
      "text/markdown": [
       "\n",
       "| <!--/--> | IDNO | BODYFAT | DENSITY | AGE | WEIGHT | HEIGHT | ADIPOSITY | NECK | CHEST | ABDOMEN | HIP | THIGH | KNEE | ANKLE | BICEPS | FOREARM | WRIST | cal_fat | \n",
       "|---|---|---|\n",
       "| 82 |  82      | 26.0     | 1.0382   | 64       | 150.25   | 67.25    | 23.4     | 38.1     | 97.1     | 89.0     | 96.9     | 54.8     | 38.0     | 22.0     | 29.9     | 25.2     | 17.7     | 26.78675 | \n",
       "| 86 |  86      | 25.8     | 1.0386   | 67       | 167.00   | 67.50    | 26.0     | 36.5     | 98.9     | 89.7     | 96.2     | 54.7     | 37.8     | 33.7     | 32.4     | 27.7     | 18.2     | 26.60312 | \n",
       "| 221 | 221      | 12.7     | 1.0706   | 54       | 153.25   | 70.50    | 24.5     | 38.5     | 99.0     | 91.8     | 96.2     | 57.7     | 38.1     | 23.9     | 31.4     | 29.9     | 18.9     | 12.35756 | \n",
       "\n",
       "\n"
      ],
      "text/plain": [
       "    IDNO BODYFAT DENSITY AGE WEIGHT HEIGHT ADIPOSITY NECK CHEST ABDOMEN HIP \n",
       "82   82  26.0    1.0382  64  150.25 67.25  23.4      38.1 97.1  89.0    96.9\n",
       "86   86  25.8    1.0386  67  167.00 67.50  26.0      36.5 98.9  89.7    96.2\n",
       "221 221  12.7    1.0706  54  153.25 70.50  24.5      38.5 99.0  91.8    96.2\n",
       "    THIGH KNEE ANKLE BICEPS FOREARM WRIST cal_fat \n",
       "82  54.8  38.0 22.0  29.9   25.2    17.7  26.78675\n",
       "86  54.7  37.8 33.7  32.4   27.7    18.2  26.60312\n",
       "221 57.7  38.1 23.9  31.4   29.9    18.9  12.35756"
      ]
     },
     "metadata": {},
     "output_type": "display_data"
    }
   ],
   "source": [
    "BodyFat[c(82,86,221), ]"
   ]
  },
  {
   "cell_type": "markdown",
   "metadata": {},
   "source": [
    "From the Cook's distance plot we can see 3 potential leverages in the model. However, we can not find any reason to remove them from the model so we keep them as natural data."
   ]
  },
  {
   "cell_type": "markdown",
   "metadata": {},
   "source": [
    "## Part 2: Model fitting"
   ]
  },
  {
   "cell_type": "markdown",
   "metadata": {},
   "source": [
    "### 2.1 BIC"
   ]
  },
  {
   "cell_type": "code",
   "execution_count": 23,
   "metadata": {
    "collapsed": true
   },
   "outputs": [],
   "source": [
    "model.full = lm(BODYFAT ~ ., data = bodyfat)"
   ]
  },
  {
   "cell_type": "code",
   "execution_count": 24,
   "metadata": {
    "scrolled": true
   },
   "outputs": [
    {
     "name": "stdout",
     "output_type": "stream",
     "text": [
      "Start:  AIC=698.47\n",
      "BODYFAT ~ AGE + WEIGHT + HEIGHT + ADIPOSITY + NECK + CHEST + \n",
      "    ABDOMEN + HIP + THIGH + KNEE + ANKLE + BICEPS + FOREARM + \n",
      "    WRIST\n",
      "\n",
      "            Df Sum of Sq    RSS    AIC\n",
      "- KNEE       1      0.06 3567.2 695.77\n",
      "- HEIGHT     1      0.48 3567.6 695.80\n",
      "- ADIPOSITY  1      5.41 3572.6 696.14\n",
      "- WEIGHT     1      6.18 3573.3 696.19\n",
      "- ANKLE      1      7.90 3575.1 696.31\n",
      "- BICEPS     1     17.81 3585.0 696.99\n",
      "- THIGH      1     24.05 3591.2 697.42\n",
      "- FOREARM    1     25.40 3592.6 697.51\n",
      "- CHEST      1     25.83 3593.0 697.54\n",
      "- HIP        1     28.42 3595.6 697.72\n",
      "<none>                   3567.2 698.47\n",
      "- NECK       1     45.31 3612.5 698.87\n",
      "- AGE        1     71.55 3638.7 700.65\n",
      "- WRIST      1    182.90 3750.1 708.07\n",
      "- ABDOMEN    1   1425.68 4992.8 778.48\n",
      "\n",
      "Step:  AIC=695.77\n",
      "BODYFAT ~ AGE + WEIGHT + HEIGHT + ADIPOSITY + NECK + CHEST + \n",
      "    ABDOMEN + HIP + THIGH + ANKLE + BICEPS + FOREARM + WRIST\n",
      "\n",
      "            Df Sum of Sq    RSS    AIC\n",
      "- HEIGHT     1      0.46 3567.7 693.09\n",
      "- ADIPOSITY  1      5.40 3572.6 693.43\n",
      "- WEIGHT     1      6.29 3573.5 693.49\n",
      "- ANKLE      1      7.92 3575.1 693.61\n",
      "- BICEPS     1     17.94 3585.2 694.29\n",
      "- THIGH      1     25.10 3592.3 694.79\n",
      "- FOREARM    1     25.34 3592.6 694.80\n",
      "- CHEST      1     25.77 3593.0 694.83\n",
      "- HIP        1     28.86 3596.1 695.04\n",
      "<none>                   3567.2 695.77\n",
      "- NECK       1     45.37 3612.6 696.17\n",
      "- AGE        1     74.99 3642.2 698.18\n",
      "+ KNEE       1      0.06 3567.2 698.47\n",
      "- WRIST      1    183.66 3750.9 705.41\n",
      "- ABDOMEN    1   1425.95 4993.2 775.79\n",
      "\n",
      "Step:  AIC=693.09\n",
      "BODYFAT ~ AGE + WEIGHT + ADIPOSITY + NECK + CHEST + ABDOMEN + \n",
      "    HIP + THIGH + ANKLE + BICEPS + FOREARM + WRIST\n",
      "\n",
      "            Df Sum of Sq    RSS    AIC\n",
      "- ANKLE      1      8.40 3576.1 690.96\n",
      "- BICEPS     1     17.83 3585.5 691.61\n",
      "- WEIGHT     1     20.71 3588.4 691.81\n",
      "- THIGH      1     24.76 3592.4 692.09\n",
      "- ADIPOSITY  1     24.99 3592.7 692.10\n",
      "- CHEST      1     25.40 3593.1 692.13\n",
      "- FOREARM    1     26.05 3593.7 692.17\n",
      "- HIP        1     28.41 3596.1 692.34\n",
      "<none>                   3567.7 693.09\n",
      "- NECK       1     45.92 3613.6 693.53\n",
      "- AGE        1     74.77 3642.5 695.49\n",
      "+ HEIGHT     1      0.46 3567.2 695.77\n",
      "+ KNEE       1      0.04 3567.6 695.80\n",
      "- WRIST      1    183.38 3751.1 702.71\n",
      "- ABDOMEN    1   1432.86 5000.5 773.44\n",
      "\n",
      "Step:  AIC=690.96\n",
      "BODYFAT ~ AGE + WEIGHT + ADIPOSITY + NECK + CHEST + ABDOMEN + \n",
      "    HIP + THIGH + BICEPS + FOREARM + WRIST\n",
      "\n",
      "            Df Sum of Sq    RSS    AIC\n",
      "- WEIGHT     1     15.34 3591.4 689.31\n",
      "- BICEPS     1     16.16 3592.2 689.36\n",
      "- THIGH      1     25.25 3601.3 689.99\n",
      "- FOREARM    1     25.68 3601.8 690.01\n",
      "- CHEST      1     27.52 3603.6 690.14\n",
      "- ADIPOSITY  1     28.13 3604.2 690.18\n",
      "- HIP        1     30.17 3606.2 690.32\n",
      "<none>                   3576.1 690.96\n",
      "- NECK       1     53.11 3629.2 691.88\n",
      "+ ANKLE      1      8.40 3567.7 693.09\n",
      "- AGE        1     72.52 3648.6 693.19\n",
      "+ HEIGHT     1      0.93 3575.1 693.61\n",
      "+ KNEE       1      0.14 3575.9 693.66\n",
      "- WRIST      1    175.49 3751.6 700.04\n",
      "- ABDOMEN    1   1431.91 5008.0 771.10\n",
      "\n",
      "Step:  AIC=689.31\n",
      "BODYFAT ~ AGE + ADIPOSITY + NECK + CHEST + ABDOMEN + HIP + THIGH + \n",
      "    BICEPS + FOREARM + WRIST\n",
      "\n",
      "            Df Sum of Sq    RSS    AIC\n",
      "- BICEPS     1     11.66 3603.1 687.40\n",
      "- THIGH      1     20.06 3611.5 687.97\n",
      "- FOREARM    1     21.33 3612.8 688.06\n",
      "<none>                   3591.4 689.31\n",
      "- ADIPOSITY  1     44.76 3636.2 689.65\n",
      "- CHEST      1     60.61 3652.0 690.72\n",
      "+ WEIGHT     1     15.34 3576.1 690.96\n",
      "+ HEIGHT     1     10.24 3581.2 691.31\n",
      "- NECK       1     70.86 3662.3 691.41\n",
      "- HIP        1     76.01 3667.4 691.75\n",
      "+ ANKLE      1      3.02 3588.4 691.81\n",
      "+ KNEE       1      0.98 3590.4 691.95\n",
      "- AGE        1     99.07 3690.5 693.29\n",
      "- WRIST      1    240.57 3832.0 702.55\n",
      "- ABDOMEN    1   1449.52 5040.9 770.00\n",
      "\n",
      "Step:  AIC=687.4\n",
      "BODYFAT ~ AGE + ADIPOSITY + NECK + CHEST + ABDOMEN + HIP + THIGH + \n",
      "    FOREARM + WRIST\n",
      "\n",
      "            Df Sum of Sq    RSS    AIC\n",
      "- THIGH      1     31.17 3634.3 686.81\n",
      "- FOREARM    1     35.14 3638.2 687.08\n",
      "<none>                   3603.1 687.40\n",
      "- ADIPOSITY  1     47.81 3650.9 687.93\n",
      "- CHEST      1     54.25 3657.3 688.37\n",
      "- NECK       1     65.15 3668.2 689.10\n",
      "+ BICEPS     1     11.66 3591.4 689.31\n",
      "+ WEIGHT     1     10.84 3592.2 689.36\n",
      "+ HEIGHT     1      7.20 3595.9 689.61\n",
      "- HIP        1     76.53 3679.6 689.86\n",
      "+ ANKLE      1      2.71 3600.4 689.92\n",
      "+ KNEE       1      0.98 3602.1 690.04\n",
      "- AGE        1    101.10 3704.2 691.50\n",
      "- WRIST      1    232.83 3835.9 700.09\n",
      "- ABDOMEN    1   1438.68 5041.8 767.34\n",
      "\n",
      "Step:  AIC=686.81\n",
      "BODYFAT ~ AGE + ADIPOSITY + NECK + CHEST + ABDOMEN + HIP + FOREARM + \n",
      "    WRIST\n",
      "\n",
      "            Df Sum of Sq    RSS    AIC\n",
      "- FOREARM    1     38.79 3673.0 686.71\n",
      "<none>                   3634.3 686.81\n",
      "- HIP        1     46.66 3680.9 687.24\n",
      "+ THIGH      1     31.17 3603.1 687.40\n",
      "- NECK       1     53.69 3687.9 687.71\n",
      "+ BICEPS     1     22.78 3611.5 687.97\n",
      "- AGE        1     74.43 3708.7 689.09\n",
      "+ WEIGHT     1      4.46 3629.8 689.21\n",
      "+ ANKLE      1      3.76 3630.5 689.26\n",
      "+ HEIGHT     1      3.18 3631.1 689.30\n",
      "- CHEST      1     78.14 3712.4 689.33\n",
      "- ADIPOSITY  1     78.86 3713.1 689.38\n",
      "+ KNEE       1      0.51 3633.7 689.48\n",
      "- WRIST      1    234.87 3869.1 699.51\n",
      "- ABDOMEN    1   1462.87 5097.1 767.32\n",
      "\n",
      "Step:  AIC=686.71\n",
      "BODYFAT ~ AGE + ADIPOSITY + NECK + CHEST + ABDOMEN + HIP + WRIST\n",
      "\n",
      "            Df Sum of Sq    RSS    AIC\n",
      "- NECK       1     36.16 3709.2 686.41\n",
      "+ BICEPS     1     41.52 3631.5 686.62\n",
      "<none>                   3673.0 686.71\n",
      "+ FOREARM    1     38.79 3634.3 686.81\n",
      "- HIP        1     43.07 3716.1 686.87\n",
      "+ THIGH      1     34.82 3638.2 687.08\n",
      "- AGE        1     57.89 3730.9 687.85\n",
      "- CHEST      1     71.85 3744.9 688.77\n",
      "+ ANKLE      1      4.16 3668.9 689.14\n",
      "+ KNEE       1      1.79 3671.3 689.30\n",
      "+ WEIGHT     1      0.84 3672.2 689.36\n",
      "+ HEIGHT     1      0.26 3672.8 689.40\n",
      "- ADIPOSITY  1    101.05 3774.1 690.68\n",
      "- WRIST      1    204.80 3877.8 697.35\n",
      "- ABDOMEN    1   1425.88 5098.9 764.69\n",
      "\n",
      "Step:  AIC=686.41\n",
      "BODYFAT ~ AGE + ADIPOSITY + CHEST + ABDOMEN + HIP + WRIST\n",
      "\n",
      "            Df Sum of Sq    RSS    AIC\n",
      "- HIP        1     39.91 3749.1 686.34\n",
      "<none>                   3709.2 686.41\n",
      "+ NECK       1     36.16 3673.0 686.71\n",
      "+ BICEPS     1     24.50 3684.7 687.49\n",
      "+ THIGH      1     23.37 3685.8 687.57\n",
      "+ FOREARM    1     21.26 3687.9 687.71\n",
      "- AGE        1     69.07 3778.3 688.24\n",
      "+ WEIGHT     1      7.64 3701.6 688.61\n",
      "+ ANKLE      1      6.32 3702.9 688.70\n",
      "+ HEIGHT     1      4.49 3704.7 688.82\n",
      "+ KNEE       1      1.27 3707.9 689.04\n",
      "- ADIPOSITY  1     89.22 3798.4 689.55\n",
      "- CHEST      1     94.49 3803.7 689.89\n",
      "- WRIST      1    387.49 4096.7 708.15\n",
      "- ABDOMEN    1   1405.65 5114.9 762.75\n",
      "\n",
      "Step:  AIC=686.34\n",
      "BODYFAT ~ AGE + ADIPOSITY + CHEST + ABDOMEN + WRIST\n",
      "\n",
      "            Df Sum of Sq    RSS    AIC\n",
      "<none>                   3749.1 686.34\n",
      "+ HIP        1     39.91 3709.2 686.41\n",
      "+ WEIGHT     1     35.79 3713.3 686.69\n",
      "+ NECK       1     33.01 3716.1 686.87\n",
      "+ HEIGHT     1     29.68 3719.4 687.09\n",
      "+ FOREARM    1     19.36 3729.8 687.77\n",
      "- ADIPOSITY  1     66.99 3816.1 687.99\n",
      "+ BICEPS     1     15.78 3733.3 688.01\n",
      "+ KNEE       1      3.57 3745.5 688.81\n",
      "+ ANKLE      1      2.32 3746.8 688.89\n",
      "+ THIGH      1      0.72 3748.4 689.00\n",
      "- CHEST      1     87.01 3836.1 689.27\n",
      "- AGE        1    194.81 3943.9 696.09\n",
      "- WRIST      1    497.15 4246.3 714.26\n",
      "- ABDOMEN    1   1558.56 5307.7 769.15\n"
     ]
    }
   ],
   "source": [
    "model.bic.both = step(model.full, direction = \"both\", k = log(dim(bodyfat)[2]))"
   ]
  },
  {
   "cell_type": "code",
   "execution_count": 25,
   "metadata": {
    "scrolled": true
   },
   "outputs": [
    {
     "name": "stdout",
     "output_type": "stream",
     "text": [
      "Start:  AIC=701.21\n",
      "BODYFAT ~ AGE + WEIGHT + HEIGHT + ADIPOSITY + NECK + CHEST + \n",
      "    ABDOMEN + HIP + THIGH + KNEE + ANKLE + BICEPS + FOREARM + \n",
      "    WRIST\n",
      "\n",
      "            Df Sum of Sq    RSS    AIC\n",
      "- KNEE       1      0.06 3567.2 698.32\n",
      "- HEIGHT     1      0.48 3567.6 698.35\n",
      "- ADIPOSITY  1      5.41 3572.6 698.69\n",
      "- WEIGHT     1      6.18 3573.3 698.74\n",
      "- ANKLE      1      7.90 3575.1 698.86\n",
      "- BICEPS     1     17.81 3585.0 699.54\n",
      "- THIGH      1     24.05 3591.2 699.97\n",
      "- FOREARM    1     25.40 3592.6 700.06\n",
      "- CHEST      1     25.83 3593.0 700.09\n",
      "- HIP        1     28.42 3595.6 700.27\n",
      "<none>                   3567.2 701.21\n",
      "- NECK       1     45.31 3612.5 701.42\n",
      "- AGE        1     71.55 3638.7 703.20\n",
      "- WRIST      1    182.90 3750.1 710.62\n",
      "- ABDOMEN    1   1425.68 4992.8 781.03\n",
      "\n",
      "Step:  AIC=698.32\n",
      "BODYFAT ~ AGE + WEIGHT + HEIGHT + ADIPOSITY + NECK + CHEST + \n",
      "    ABDOMEN + HIP + THIGH + ANKLE + BICEPS + FOREARM + WRIST\n",
      "\n",
      "            Df Sum of Sq    RSS    AIC\n",
      "- HEIGHT     1      0.46 3567.7 695.46\n",
      "- ADIPOSITY  1      5.40 3572.6 695.80\n",
      "- WEIGHT     1      6.29 3573.5 695.86\n",
      "- ANKLE      1      7.92 3575.1 695.98\n",
      "- BICEPS     1     17.94 3585.2 696.67\n",
      "- THIGH      1     25.10 3592.3 697.16\n",
      "- FOREARM    1     25.34 3592.6 697.17\n",
      "- CHEST      1     25.77 3593.0 697.20\n",
      "- HIP        1     28.86 3596.1 697.41\n",
      "<none>                   3567.2 698.32\n",
      "- NECK       1     45.37 3612.6 698.54\n",
      "- AGE        1     74.99 3642.2 700.55\n",
      "- WRIST      1    183.66 3750.9 707.78\n",
      "- ABDOMEN    1   1425.95 4993.2 778.16\n",
      "\n",
      "Step:  AIC=695.46\n",
      "BODYFAT ~ AGE + WEIGHT + ADIPOSITY + NECK + CHEST + ABDOMEN + \n",
      "    HIP + THIGH + ANKLE + BICEPS + FOREARM + WRIST\n",
      "\n",
      "            Df Sum of Sq    RSS    AIC\n",
      "- ANKLE      1      8.40 3576.1 693.15\n",
      "- BICEPS     1     17.83 3585.5 693.80\n",
      "- WEIGHT     1     20.71 3588.4 694.00\n",
      "- THIGH      1     24.76 3592.4 694.27\n",
      "- ADIPOSITY  1     24.99 3592.7 694.29\n",
      "- CHEST      1     25.40 3593.1 694.32\n",
      "- FOREARM    1     26.05 3593.7 694.36\n",
      "- HIP        1     28.41 3596.1 694.52\n",
      "<none>                   3567.7 695.46\n",
      "- NECK       1     45.92 3613.6 695.72\n",
      "- AGE        1     74.77 3642.5 697.67\n",
      "- WRIST      1    183.38 3751.1 704.90\n",
      "- ABDOMEN    1   1432.86 5000.5 775.63\n",
      "\n",
      "Step:  AIC=693.15\n",
      "BODYFAT ~ AGE + WEIGHT + ADIPOSITY + NECK + CHEST + ABDOMEN + \n",
      "    HIP + THIGH + BICEPS + FOREARM + WRIST\n",
      "\n",
      "            Df Sum of Sq    RSS    AIC\n",
      "- WEIGHT     1     15.34 3591.4 691.31\n",
      "- BICEPS     1     16.16 3592.2 691.37\n",
      "- THIGH      1     25.25 3601.3 691.99\n",
      "- FOREARM    1     25.68 3601.8 692.02\n",
      "- CHEST      1     27.52 3603.6 692.15\n",
      "- ADIPOSITY  1     28.13 3604.2 692.19\n",
      "- HIP        1     30.17 3606.2 692.33\n",
      "<none>                   3576.1 693.15\n",
      "- NECK       1     53.11 3629.2 693.89\n",
      "- AGE        1     72.52 3648.6 695.20\n",
      "- WRIST      1    175.49 3751.6 702.05\n",
      "- ABDOMEN    1   1431.91 5008.0 773.10\n",
      "\n",
      "Step:  AIC=691.31\n",
      "BODYFAT ~ AGE + ADIPOSITY + NECK + CHEST + ABDOMEN + HIP + THIGH + \n",
      "    BICEPS + FOREARM + WRIST\n",
      "\n",
      "            Df Sum of Sq    RSS    AIC\n",
      "- BICEPS     1     11.66 3603.1 689.22\n",
      "- THIGH      1     20.06 3611.5 689.79\n",
      "- FOREARM    1     21.33 3612.8 689.88\n",
      "<none>                   3591.4 691.31\n",
      "- ADIPOSITY  1     44.76 3636.2 691.47\n",
      "- CHEST      1     60.61 3652.0 692.54\n",
      "- NECK       1     70.86 3662.3 693.23\n",
      "- HIP        1     76.01 3667.4 693.57\n",
      "- AGE        1     99.07 3690.5 695.12\n",
      "- WRIST      1    240.57 3832.0 704.37\n",
      "- ABDOMEN    1   1449.52 5040.9 771.83\n",
      "\n",
      "Step:  AIC=689.22\n",
      "BODYFAT ~ AGE + ADIPOSITY + NECK + CHEST + ABDOMEN + HIP + THIGH + \n",
      "    FOREARM + WRIST\n",
      "\n",
      "            Df Sum of Sq    RSS    AIC\n",
      "- THIGH      1     31.17 3634.3 688.45\n",
      "- FOREARM    1     35.14 3638.2 688.72\n",
      "<none>                   3603.1 689.22\n",
      "- ADIPOSITY  1     47.81 3650.9 689.57\n",
      "- CHEST      1     54.25 3657.3 690.01\n",
      "- NECK       1     65.15 3668.2 690.74\n",
      "- HIP        1     76.53 3679.6 691.50\n",
      "- AGE        1    101.10 3704.2 693.14\n",
      "- WRIST      1    232.83 3835.9 701.73\n",
      "- ABDOMEN    1   1438.68 5041.8 768.98\n",
      "\n",
      "Step:  AIC=688.45\n",
      "BODYFAT ~ AGE + ADIPOSITY + NECK + CHEST + ABDOMEN + HIP + FOREARM + \n",
      "    WRIST\n",
      "\n",
      "            Df Sum of Sq    RSS    AIC\n",
      "- FOREARM    1     38.79 3673.0 688.17\n",
      "<none>                   3634.3 688.45\n",
      "- HIP        1     46.66 3680.9 688.70\n",
      "- NECK       1     53.69 3687.9 689.17\n",
      "- AGE        1     74.43 3708.7 690.55\n",
      "- CHEST      1     78.14 3712.4 690.79\n",
      "- ADIPOSITY  1     78.86 3713.1 690.84\n",
      "- WRIST      1    234.87 3869.1 700.96\n",
      "- ABDOMEN    1   1462.87 5097.1 768.77\n",
      "\n",
      "Step:  AIC=688.17\n",
      "BODYFAT ~ AGE + ADIPOSITY + NECK + CHEST + ABDOMEN + HIP + WRIST\n",
      "\n",
      "            Df Sum of Sq    RSS    AIC\n",
      "- NECK       1     36.16 3709.2 687.69\n",
      "- HIP        1     43.07 3716.1 688.15\n",
      "<none>                   3673.0 688.17\n",
      "- AGE        1     57.89 3730.9 689.13\n",
      "- CHEST      1     71.85 3744.9 690.05\n",
      "- ADIPOSITY  1    101.05 3774.1 691.96\n",
      "- WRIST      1    204.80 3877.8 698.63\n",
      "- ABDOMEN    1   1425.88 5098.9 765.97\n",
      "\n",
      "Step:  AIC=687.69\n",
      "BODYFAT ~ AGE + ADIPOSITY + CHEST + ABDOMEN + HIP + WRIST\n",
      "\n",
      "            Df Sum of Sq    RSS    AIC\n",
      "- HIP        1     39.91 3749.1 687.43\n",
      "<none>                   3709.2 687.69\n",
      "- AGE        1     69.07 3778.3 689.34\n",
      "- ADIPOSITY  1     89.22 3798.4 690.65\n",
      "- CHEST      1     94.49 3803.7 690.99\n",
      "- WRIST      1    387.49 4096.7 709.24\n",
      "- ABDOMEN    1   1405.65 5114.9 763.85\n",
      "\n",
      "Step:  AIC=687.43\n",
      "BODYFAT ~ AGE + ADIPOSITY + CHEST + ABDOMEN + WRIST\n",
      "\n",
      "            Df Sum of Sq    RSS    AIC\n",
      "<none>                   3749.1 687.43\n",
      "- ADIPOSITY  1     66.99 3816.1 688.90\n",
      "- CHEST      1     87.01 3836.1 690.19\n",
      "- AGE        1    194.81 3943.9 697.00\n",
      "- WRIST      1    497.15 4246.3 715.17\n",
      "- ABDOMEN    1   1558.56 5307.7 770.06\n"
     ]
    }
   ],
   "source": [
    "model.bic.backward = step(model.full, direction = \"backward\", k = log(dim(BodyFat)[2]))"
   ]
  },
  {
   "cell_type": "code",
   "execution_count": 26,
   "metadata": {
    "collapsed": true
   },
   "outputs": [],
   "source": [
    "model.null = lm(BODYFAT ~ 1, data = bodyfat)"
   ]
  },
  {
   "cell_type": "code",
   "execution_count": 27,
   "metadata": {
    "scrolled": true
   },
   "outputs": [
    {
     "name": "stdout",
     "output_type": "stream",
     "text": [
      "Start:  AIC=990.77\n",
      "BODYFAT ~ 1\n",
      "\n",
      "            Df Sum of Sq     RSS    AIC\n",
      "+ ABDOMEN    1    9082.4  4572.1 724.33\n",
      "+ ADIPOSITY  1    7230.8  6423.7 807.97\n",
      "+ CHEST      1    6458.6  7196.0 835.90\n",
      "+ HIP        1    5305.7  8348.9 872.46\n",
      "+ WEIGHT     1    5115.1  8539.4 878.01\n",
      "+ THIGH      1    4102.0  9552.6 905.59\n",
      "+ KNEE       1    3598.1 10056.4 918.23\n",
      "+ BICEPS     1    3037.4 10617.1 931.58\n",
      "+ NECK       1    2954.1 10700.4 933.50\n",
      "+ FOREARM    1    1731.4 11923.2 960.12\n",
      "+ WRIST      1    1486.2 12168.3 965.13\n",
      "+ AGE        1    1162.1 12492.5 971.59\n",
      "+ ANKLE      1     734.0 12920.5 979.88\n",
      "<none>                   13654.5 990.77\n",
      "+ HEIGHT     1       0.1 13654.5 993.47\n",
      "\n",
      "Step:  AIC=724.33\n",
      "BODYFAT ~ ABDOMEN\n",
      "\n",
      "            Df Sum of Sq    RSS    AIC\n",
      "+ WEIGHT     1    574.35 3997.8 694.01\n",
      "+ WRIST      1    540.95 4031.2 696.06\n",
      "+ HEIGHT     1    422.36 4149.7 703.19\n",
      "+ NECK       1    382.42 4189.7 705.55\n",
      "+ HIP        1    264.49 4307.6 712.37\n",
      "+ CHEST      1    198.01 4374.1 716.14\n",
      "+ KNEE       1    189.63 4382.5 716.61\n",
      "+ ANKLE      1    138.76 4433.3 719.45\n",
      "+ AGE        1    126.20 4445.9 720.15\n",
      "+ FOREARM    1     90.64 4481.5 722.11\n",
      "+ BICEPS     1     83.35 4488.7 722.51\n",
      "+ THIGH      1     77.68 4494.4 722.82\n",
      "<none>                   4572.1 724.33\n",
      "+ ADIPOSITY  1     19.76 4552.3 725.97\n",
      "\n",
      "Step:  AIC=694.01\n",
      "BODYFAT ~ ABDOMEN + WEIGHT\n",
      "\n",
      "            Df Sum of Sq    RSS    AIC\n",
      "+ WRIST      1   174.234 3823.5 685.76\n",
      "+ NECK       1    72.839 3924.9 692.20\n",
      "+ THIGH      1    63.406 3934.3 692.79\n",
      "<none>                   3997.8 694.01\n",
      "+ BICEPS     1    34.905 3962.8 694.56\n",
      "+ ADIPOSITY  1    24.835 3972.9 695.19\n",
      "+ HEIGHT     1    22.876 3974.9 695.31\n",
      "+ FOREARM    1    13.004 3984.7 695.92\n",
      "+ CHEST      1    11.299 3986.5 696.02\n",
      "+ KNEE       1     3.362 3994.4 696.51\n",
      "+ HIP        1     1.680 3996.1 696.62\n",
      "+ AGE        1     0.764 3997.0 696.67\n",
      "+ ANKLE      1     0.272 3997.5 696.70\n",
      "\n",
      "Step:  AIC=685.76\n",
      "BODYFAT ~ ABDOMEN + WEIGHT + WRIST\n",
      "\n",
      "            Df Sum of Sq    RSS    AIC\n",
      "+ BICEPS     1    55.932 3767.6 684.84\n",
      "<none>                   3823.5 685.76\n",
      "+ FOREARM    1    40.624 3782.9 685.84\n",
      "+ ADIPOSITY  1    30.223 3793.3 686.51\n",
      "+ AGE        1    29.800 3793.7 686.54\n",
      "+ HEIGHT     1    26.956 3796.6 686.72\n",
      "+ THIGH      1    25.901 3797.6 686.79\n",
      "+ NECK       1    13.903 3809.6 687.57\n",
      "+ ANKLE      1    12.325 3811.2 687.67\n",
      "+ KNEE       1     8.210 3815.3 687.94\n",
      "+ CHEST      1     6.218 3817.3 688.06\n",
      "+ HIP        1     2.423 3821.1 688.31\n",
      "\n",
      "Step:  AIC=684.84\n",
      "BODYFAT ~ ABDOMEN + WEIGHT + WRIST + BICEPS\n",
      "\n",
      "            Df Sum of Sq    RSS    AIC\n",
      "<none>                   3767.6 684.84\n",
      "+ AGE        1    32.930 3734.7 685.39\n",
      "+ NECK       1    26.809 3740.8 685.79\n",
      "+ ANKLE      1    17.152 3750.4 686.42\n",
      "+ FOREARM    1    16.602 3751.0 686.46\n",
      "+ ADIPOSITY  1    12.742 3754.8 686.71\n",
      "+ THIGH      1    11.380 3756.2 686.80\n",
      "+ CHEST      1    11.265 3756.3 686.81\n",
      "+ HEIGHT     1    10.617 3757.0 686.85\n",
      "+ KNEE       1    10.263 3757.3 686.88\n",
      "+ HIP        1     2.216 3765.4 687.40\n"
     ]
    }
   ],
   "source": [
    "model.bic.forward = step(model.null, direction = \"forward\", k = log(dim(bodyfat)[2]), scope = formula(model.full))"
   ]
  },
  {
   "cell_type": "code",
   "execution_count": 28,
   "metadata": {},
   "outputs": [
    {
     "data": {
      "text/plain": [
       "\n",
       "Call:\n",
       "lm(formula = BODYFAT ~ AGE + ADIPOSITY + CHEST + ABDOMEN + WRIST, \n",
       "    data = bodyfat)\n",
       "\n",
       "Residuals:\n",
       "    Min      1Q  Median      3Q     Max \n",
       "-9.4828 -2.6995 -0.3002  3.0760  8.9638 \n",
       "\n",
       "Coefficients:\n",
       "            Estimate Std. Error t value Pr(>|t|)    \n",
       "(Intercept) -3.26015    5.83125  -0.559 0.576627    \n",
       "AGE          0.07558    0.02140   3.531 0.000495 ***\n",
       "ADIPOSITY    0.47195    0.22789   2.071 0.039436 *  \n",
       "CHEST       -0.20984    0.08891  -2.360 0.019073 *  \n",
       "ABDOMEN      0.71224    0.07131   9.989  < 2e-16 ***\n",
       "WRIST       -2.07723    0.36821  -5.641 4.73e-08 ***\n",
       "---\n",
       "Signif. codes:  0 ‘***’ 0.001 ‘**’ 0.01 ‘*’ 0.05 ‘.’ 0.1 ‘ ’ 1\n",
       "\n",
       "Residual standard error: 3.952 on 240 degrees of freedom\n",
       "Multiple R-squared:  0.7254,\tAdjusted R-squared:  0.7197 \n",
       "F-statistic: 126.8 on 5 and 240 DF,  p-value: < 2.2e-16\n"
      ]
     },
     "metadata": {},
     "output_type": "display_data"
    }
   ],
   "source": [
    "summary(model.bic.both)"
   ]
  },
  {
   "cell_type": "code",
   "execution_count": 29,
   "metadata": {},
   "outputs": [
    {
     "data": {
      "text/plain": [
       "\n",
       "Call:\n",
       "lm(formula = BODYFAT ~ AGE + ADIPOSITY + CHEST + ABDOMEN + WRIST, \n",
       "    data = bodyfat)\n",
       "\n",
       "Residuals:\n",
       "    Min      1Q  Median      3Q     Max \n",
       "-9.4828 -2.6995 -0.3002  3.0760  8.9638 \n",
       "\n",
       "Coefficients:\n",
       "            Estimate Std. Error t value Pr(>|t|)    \n",
       "(Intercept) -3.26015    5.83125  -0.559 0.576627    \n",
       "AGE          0.07558    0.02140   3.531 0.000495 ***\n",
       "ADIPOSITY    0.47195    0.22789   2.071 0.039436 *  \n",
       "CHEST       -0.20984    0.08891  -2.360 0.019073 *  \n",
       "ABDOMEN      0.71224    0.07131   9.989  < 2e-16 ***\n",
       "WRIST       -2.07723    0.36821  -5.641 4.73e-08 ***\n",
       "---\n",
       "Signif. codes:  0 ‘***’ 0.001 ‘**’ 0.01 ‘*’ 0.05 ‘.’ 0.1 ‘ ’ 1\n",
       "\n",
       "Residual standard error: 3.952 on 240 degrees of freedom\n",
       "Multiple R-squared:  0.7254,\tAdjusted R-squared:  0.7197 \n",
       "F-statistic: 126.8 on 5 and 240 DF,  p-value: < 2.2e-16\n"
      ]
     },
     "metadata": {},
     "output_type": "display_data"
    }
   ],
   "source": [
    "summary(model.bic.backward)"
   ]
  },
  {
   "cell_type": "code",
   "execution_count": 30,
   "metadata": {},
   "outputs": [
    {
     "data": {
      "text/plain": [
       "\n",
       "Call:\n",
       "lm(formula = BODYFAT ~ ABDOMEN + WEIGHT + WRIST + BICEPS, data = bodyfat)\n",
       "\n",
       "Residuals:\n",
       "   Min     1Q Median     3Q    Max \n",
       "-9.134 -2.800 -0.177  2.973  8.614 \n",
       "\n",
       "Coefficients:\n",
       "             Estimate Std. Error t value Pr(>|t|)    \n",
       "(Intercept) -26.55869    6.48576  -4.095 5.77e-05 ***\n",
       "ABDOMEN       0.88326    0.05237  16.866  < 2e-16 ***\n",
       "WEIGHT       -0.10549    0.02571  -4.103 5.59e-05 ***\n",
       "WRIST        -1.42364    0.40282  -3.534  0.00049 ***\n",
       "BICEPS        0.26726    0.14130   1.891  0.05976 .  \n",
       "---\n",
       "Signif. codes:  0 ‘***’ 0.001 ‘**’ 0.01 ‘*’ 0.05 ‘.’ 0.1 ‘ ’ 1\n",
       "\n",
       "Residual standard error: 3.954 on 241 degrees of freedom\n",
       "Multiple R-squared:  0.7241,\tAdjusted R-squared:  0.7195 \n",
       "F-statistic: 158.1 on 4 and 241 DF,  p-value: < 2.2e-16\n"
      ]
     },
     "metadata": {},
     "output_type": "display_data"
    }
   ],
   "source": [
    "summary(model.bic.forward)"
   ]
  },
  {
   "cell_type": "markdown",
   "metadata": {},
   "source": [
    "Compare the 3 models built by stepwise variable selection(both/backward/forward) with BIC criterion, the model generated by forward selection $model.bic.forward$ has the least number of variables.  \n",
    "\n",
    "The model $model.bic.forward$ has 4 variables, in which the variable `BICEPS` is less significant. In order to get a more simplified model, we refit the model excluding `BICEPS`."
   ]
  },
  {
   "cell_type": "code",
   "execution_count": 31,
   "metadata": {},
   "outputs": [
    {
     "data": {
      "text/plain": [
       "\n",
       "Call:\n",
       "lm(formula = BODYFAT ~ ABDOMEN + WEIGHT + WRIST, data = bodyfat)\n",
       "\n",
       "Residuals:\n",
       "    Min      1Q  Median      3Q     Max \n",
       "-9.0089 -2.8917 -0.4071  2.9887  9.2327 \n",
       "\n",
       "Coefficients:\n",
       "             Estimate Std. Error t value Pr(>|t|)    \n",
       "(Intercept) -22.90319    6.22402  -3.680 0.000288 ***\n",
       "ABDOMEN       0.87320    0.05237  16.672  < 2e-16 ***\n",
       "WEIGHT       -0.08140    0.02245  -3.625 0.000352 ***\n",
       "WRIST        -1.33584    0.40227  -3.321 0.001036 ** \n",
       "---\n",
       "Signif. codes:  0 ‘***’ 0.001 ‘**’ 0.01 ‘*’ 0.05 ‘.’ 0.1 ‘ ’ 1\n",
       "\n",
       "Residual standard error: 3.975 on 242 degrees of freedom\n",
       "Multiple R-squared:   0.72,\tAdjusted R-squared:  0.7165 \n",
       "F-statistic: 207.4 on 3 and 242 DF,  p-value: < 2.2e-16\n"
      ]
     },
     "metadata": {},
     "output_type": "display_data"
    }
   ],
   "source": [
    "model_BIC = lm(BODYFAT ~ ABDOMEN + WEIGHT + WRIST, data = bodyfat)\n",
    "summary(model_BIC)"
   ]
  },
  {
   "cell_type": "markdown",
   "metadata": {},
   "source": [
    "Since the R-squared decreases just a little after we refit the model, $model\\_BIC$ is what we got by stepwise variable selection with BIC criterion:\n",
    "\n",
    "$$ Bodyfat = -22.90319 + 0.87320 * Abdomen - 0.08140 * Weight - 1.33584 * Wrist $$"
   ]
  },
  {
   "cell_type": "markdown",
   "metadata": {},
   "source": [
    "### 2.2 LASSO"
   ]
  },
  {
   "cell_type": "code",
   "execution_count": 32,
   "metadata": {},
   "outputs": [
    {
     "data": {
      "image/png": "[encoded data removed]",
      "text/plain": [
       "plot without title"
      ]
     },
     "metadata": {},
     "output_type": "display_data"
    }
   ],
   "source": [
    "x = as.matrix(bodyfat[ ,-1])\n",
    "y = bodyfat[ ,1]\n",
    "cvfit = cv.glmnet(x, y, family = \"gaussian\", type.measure = \"mse\", nfolds = 10, alpha = 1, standardize = T)\n",
    "plot(cvfit)"
   ]
  },
  {
   "cell_type": "code",
   "execution_count": 33,
   "metadata": {},
   "outputs": [
    {
     "name": "stdout",
     "output_type": "stream",
     "text": [
      "15 x 1 sparse Matrix of class \"dgCMatrix\"\n",
      "                      1\n",
      "(Intercept)  5.50924784\n",
      "AGE          0.06089092\n",
      "WEIGHT       .         \n",
      "HEIGHT      -0.24983757\n",
      "ADIPOSITY    .         \n",
      "NECK        -0.32942909\n",
      "CHEST       -0.09231289\n",
      "ABDOMEN      0.77651419\n",
      "HIP         -0.10229566\n",
      "THIGH        0.10823672\n",
      "KNEE         .         \n",
      "ANKLE        0.08719378\n",
      "BICEPS       0.12863671\n",
      "FOREARM      0.19874708\n",
      "WRIST       -1.63475271\n",
      "15 x 1 sparse Matrix of class \"dgCMatrix\"\n",
      "                      1\n",
      "(Intercept) -8.03831904\n",
      "AGE          0.02616219\n",
      "WEIGHT       .         \n",
      "HEIGHT      -0.23063451\n",
      "ADIPOSITY    .         \n",
      "NECK         .         \n",
      "CHEST        .         \n",
      "ABDOMEN      0.62885043\n",
      "HIP          .         \n",
      "THIGH        .         \n",
      "KNEE         .         \n",
      "ANKLE        .         \n",
      "BICEPS       .         \n",
      "FOREARM      .         \n",
      "WRIST       -0.88375358\n"
     ]
    }
   ],
   "source": [
    "print(coef(cvfit, s = \"lambda.min\"))\n",
    "print(coef(cvfit, s = \"lambda.1se\"))"
   ]
  },
  {
   "cell_type": "markdown",
   "metadata": {},
   "source": [
    "Variable selection method LASSO selects 4 variables: `AGE`, `HEIGHT`, `ABDOMEN`, `WRIST`. Fit a Multiple Linear Regression model with these variables as follows:"
   ]
  },
  {
   "cell_type": "code",
   "execution_count": 34,
   "metadata": {},
   "outputs": [
    {
     "data": {
      "text/plain": [
       "\n",
       "Call:\n",
       "lm(formula = BODYFAT ~ AGE + HEIGHT + ABDOMEN + WRIST, data = bodyfat)\n",
       "\n",
       "Residuals:\n",
       "    Min      1Q  Median      3Q     Max \n",
       "-9.5667 -2.8318 -0.3704  2.9634  8.7839 \n",
       "\n",
       "Coefficients:\n",
       "            Estimate Std. Error t value Pr(>|t|)    \n",
       "(Intercept)  3.34367    7.75355   0.431   0.6667    \n",
       "AGE          0.04971    0.02219   2.240   0.0260 *  \n",
       "HEIGHT      -0.27208    0.11560  -2.354   0.0194 *  \n",
       "ABDOMEN      0.70838    0.03204  22.112  < 2e-16 ***\n",
       "WRIST       -1.80984    0.37884  -4.777 3.09e-06 ***\n",
       "---\n",
       "Signif. codes:  0 ‘***’ 0.001 ‘**’ 0.01 ‘*’ 0.05 ‘.’ 0.1 ‘ ’ 1\n",
       "\n",
       "Residual standard error: 3.954 on 241 degrees of freedom\n",
       "Multiple R-squared:  0.724,\tAdjusted R-squared:  0.7194 \n",
       "F-statistic:   158 on 4 and 241 DF,  p-value: < 2.2e-16\n"
      ]
     },
     "metadata": {},
     "output_type": "display_data"
    }
   ],
   "source": [
    "model_LASSO = lm(BODYFAT ~ AGE + HEIGHT + ABDOMEN + WRIST, data = bodyfat)\n",
    "summary(model_LASSO)"
   ]
  },
  {
   "cell_type": "markdown",
   "metadata": {},
   "source": [
    "Variable `AGE` is less significant in $model\\_LASSO$. In order to get a more simplified model, we refit the model excluding `AGE`."
   ]
  },
  {
   "cell_type": "code",
   "execution_count": 35,
   "metadata": {},
   "outputs": [
    {
     "data": {
      "text/plain": [
       "\n",
       "Call:\n",
       "lm(formula = BODYFAT ~ HEIGHT + ABDOMEN + WRIST, data = bodyfat)\n",
       "\n",
       "Residuals:\n",
       "    Min      1Q  Median      3Q     Max \n",
       "-9.0606 -2.9026 -0.2629  2.8771  9.1615 \n",
       "\n",
       "Coefficients:\n",
       "            Estimate Std. Error t value Pr(>|t|)    \n",
       "(Intercept)  8.02851    7.52795   1.066 0.287263    \n",
       "HEIGHT      -0.36820    0.10824  -3.402 0.000783 ***\n",
       "ABDOMEN      0.71895    0.03195  22.504  < 2e-16 ***\n",
       "WRIST       -1.62740    0.37304  -4.363  1.9e-05 ***\n",
       "---\n",
       "Signif. codes:  0 ‘***’ 0.001 ‘**’ 0.01 ‘*’ 0.05 ‘.’ 0.1 ‘ ’ 1\n",
       "\n",
       "Residual standard error: 3.987 on 242 degrees of freedom\n",
       "Multiple R-squared:  0.7182,\tAdjusted R-squared:  0.7148 \n",
       "F-statistic: 205.6 on 3 and 242 DF,  p-value: < 2.2e-16\n"
      ]
     },
     "metadata": {},
     "output_type": "display_data"
    }
   ],
   "source": [
    "model_LASSO_final = lm(BODYFAT ~ HEIGHT + ABDOMEN + WRIST, data = bodyfat)\n",
    "summary(model_LASSO_final)"
   ]
  },
  {
   "cell_type": "markdown",
   "metadata": {},
   "source": [
    "Since the R-squared decreases just a little after we refit the model, $model\\_LASSO\\_final$ is what we built by variable selection method LASSO:\n",
    "\n",
    "$$ Bodyfat = 8.02851 - 0.36820 * Height + 0.71895 * Abdomen - 1.62740 * Wrist $$"
   ]
  },
  {
   "cell_type": "markdown",
   "metadata": {},
   "source": [
    "Compare the multiple R-squared of the 2 models we got:\n",
    "\n",
    "* $model\\_BIC$: 0.72\n",
    "\n",
    "* $model\\_LASSO\\_final$: 0.7182\n",
    "\n",
    "$model\\_BIC$ has larger multiple R-squared, so we choose it as our final model."
   ]
  },
  {
   "cell_type": "markdown",
   "metadata": {},
   "source": [
    "## Part 3: Model Evaluation"
   ]
  },
  {
   "cell_type": "markdown",
   "metadata": {},
   "source": [
    "### 3.1 Summary of Estimation and Inference"
   ]
  },
  {
   "cell_type": "markdown",
   "metadata": {},
   "source": [
    "Our final model is:  \n",
    "\n",
    "$$ Bodyfat = -22.90319 + 0.87320 * Abdomen - 0.08140 * Weight - 1.33584 * Wrist $$"
   ]
  },
  {
   "cell_type": "code",
   "execution_count": 36,
   "metadata": {},
   "outputs": [
    {
     "data": {
      "text/html": [
       "<table>\n",
       "<thead><tr><th></th><th scope=col>Estimate</th><th scope=col>Std. Error</th><th scope=col>t value</th><th scope=col>Pr(&gt;|t|)</th></tr></thead>\n",
       "<tbody>\n",
       "\t<tr><th scope=row>(Intercept)</th><td>-22.90319063</td><td>6.22402308  </td><td>-3.679805   </td><td>2.877312e-04</td></tr>\n",
       "\t<tr><th scope=row>ABDOMEN</th><td>  0.87319758</td><td>0.05237493  </td><td>16.672052   </td><td>4.504113e-42</td></tr>\n",
       "\t<tr><th scope=row>WEIGHT</th><td> -0.08140137</td><td>0.02245467  </td><td>-3.625142   </td><td>3.520444e-04</td></tr>\n",
       "\t<tr><th scope=row>WRIST</th><td> -1.33584448</td><td>0.40226546  </td><td>-3.320803   </td><td>1.036233e-03</td></tr>\n",
       "</tbody>\n",
       "</table>\n"
      ],
      "text/latex": [
       "\\begin{tabular}{r|llll}\n",
       "  & Estimate & Std. Error & t value & Pr(>\\textbar{}t\\textbar{})\\\\\n",
       "\\hline\n",
       "\t(Intercept) & -22.90319063 & 6.22402308   & -3.679805    & 2.877312e-04\\\\\n",
       "\tABDOMEN &   0.87319758 & 0.05237493   & 16.672052    & 4.504113e-42\\\\\n",
       "\tWEIGHT &  -0.08140137 & 0.02245467   & -3.625142    & 3.520444e-04\\\\\n",
       "\tWRIST &  -1.33584448 & 0.40226546   & -3.320803    & 1.036233e-03\\\\\n",
       "\\end{tabular}\n"
      ],
      "text/markdown": [
       "\n",
       "| <!--/--> | Estimate | Std. Error | t value | Pr(>|t|) | \n",
       "|---|---|---|---|\n",
       "| (Intercept) | -22.90319063 | 6.22402308   | -3.679805    | 2.877312e-04 | \n",
       "| ABDOMEN |   0.87319758 | 0.05237493   | 16.672052    | 4.504113e-42 | \n",
       "| WEIGHT |  -0.08140137 | 0.02245467   | -3.625142    | 3.520444e-04 | \n",
       "| WRIST |  -1.33584448 | 0.40226546   | -3.320803    | 1.036233e-03 | \n",
       "\n",
       "\n"
      ],
      "text/plain": [
       "            Estimate     Std. Error t value   Pr(>|t|)    \n",
       "(Intercept) -22.90319063 6.22402308 -3.679805 2.877312e-04\n",
       "ABDOMEN       0.87319758 0.05237493 16.672052 4.504113e-42\n",
       "WEIGHT       -0.08140137 0.02245467 -3.625142 3.520444e-04\n",
       "WRIST        -1.33584448 0.40226546 -3.320803 1.036233e-03"
      ]
     },
     "metadata": {},
     "output_type": "display_data"
    }
   ],
   "source": [
    "summary(model_BIC)$coefficients"
   ]
  },
  {
   "cell_type": "markdown",
   "metadata": {},
   "source": [
    "The final model contains 3 variables: **Abdomen**, **Weight** and **Wrist**. The Multiple R-squared for this model is 0.72, which means these 3 variables can explain about 72% variability of the bodyfat.  \n",
    "\n",
    "When consider F-test for null hypothesis: $\\beta_1 = \\beta_2 = \\beta_3 = 0$, the corresponding p-value is less than $2.2e^{-16}$. So we reject the null hypothesis.\n",
    "\n",
    "For the coefficients for the 3 variables, when testing for null hypothesis: $\\beta_i=0$,  the p-values for each test is very significant (less than 0.01). This means the possibility for falsely rejecting each null hypothesis is less than 0.01.  \n",
    "\n",
    "We can also further check the 95% confidence intervals which list following:  "
   ]
  },
  {
   "cell_type": "code",
   "execution_count": 37,
   "metadata": {},
   "outputs": [
    {
     "data": {
      "text/html": [
       "<table>\n",
       "<thead><tr><th></th><th scope=col>2.5 %</th><th scope=col>97.5 %</th></tr></thead>\n",
       "<tbody>\n",
       "\t<tr><th scope=row>(Intercept)</th><td>-35.1633655 </td><td>-10.64301576</td></tr>\n",
       "\t<tr><th scope=row>ABDOMEN</th><td>  0.7700287 </td><td>  0.97636651</td></tr>\n",
       "\t<tr><th scope=row>WEIGHT</th><td> -0.1256329 </td><td> -0.03716982</td></tr>\n",
       "\t<tr><th scope=row>WRIST</th><td> -2.1282331 </td><td> -0.54345588</td></tr>\n",
       "</tbody>\n",
       "</table>\n"
      ],
      "text/latex": [
       "\\begin{tabular}{r|ll}\n",
       "  & 2.5 \\% & 97.5 \\%\\\\\n",
       "\\hline\n",
       "\t(Intercept) & -35.1633655  & -10.64301576\\\\\n",
       "\tABDOMEN &   0.7700287  &   0.97636651\\\\\n",
       "\tWEIGHT &  -0.1256329  &  -0.03716982\\\\\n",
       "\tWRIST &  -2.1282331  &  -0.54345588\\\\\n",
       "\\end{tabular}\n"
      ],
      "text/markdown": [
       "\n",
       "| <!--/--> | 2.5 % | 97.5 % | \n",
       "|---|---|---|---|\n",
       "| (Intercept) | -35.1633655  | -10.64301576 | \n",
       "| ABDOMEN |   0.7700287  |   0.97636651 | \n",
       "| WEIGHT |  -0.1256329  |  -0.03716982 | \n",
       "| WRIST |  -2.1282331  |  -0.54345588 | \n",
       "\n",
       "\n"
      ],
      "text/plain": [
       "            2.5 %       97.5 %      \n",
       "(Intercept) -35.1633655 -10.64301576\n",
       "ABDOMEN       0.7700287   0.97636651\n",
       "WEIGHT       -0.1256329  -0.03716982\n",
       "WRIST        -2.1282331  -0.54345588"
      ]
     },
     "metadata": {},
     "output_type": "display_data"
    }
   ],
   "source": [
    "confint(model_BIC)"
   ]
  },
  {
   "cell_type": "markdown",
   "metadata": {},
   "source": [
    "None of the confidence intervals for the 3 variables including 0, which also support that the 3 coefficients are not 0."
   ]
  },
  {
   "cell_type": "markdown",
   "metadata": {},
   "source": [
    "### 3.2  Model Diagnosis"
   ]
  },
  {
   "cell_type": "markdown",
   "metadata": {},
   "source": [
    "In this part, we check 3 assumptions of a Multiple Linear Regression model by using diagnostic plots."
   ]
  },
  {
   "cell_type": "code",
   "execution_count": 38,
   "metadata": {},
   "outputs": [
    {
     "data": {
      "image/png": "[encoded data removed]",
      "text/plain": [
       "Plot with title “”"
      ]
     },
     "metadata": {},
     "output_type": "display_data"
    }
   ],
   "source": [
    "options(repr.plot.width=6, repr.plot.height=3)\n",
    "par(mfrow = c(1,2))\n",
    "plot(model_BIC, which = 1:2)"
   ]
  },
  {
   "cell_type": "markdown",
   "metadata": {},
   "source": [
    "* Normality.  \n",
    "From the Normal Q-Q plot, the residuals may have a heavy right tail, but in general, the points line on the diagonal can support the normality.  \n",
    "We also used the Shapiro-Wilk normality test to check the normality, which gets a p-value of 0.09072. So we can not reject the normality assumption."
   ]
  },
  {
   "cell_type": "code",
   "execution_count": 39,
   "metadata": {},
   "outputs": [
    {
     "data": {
      "text/plain": [
       "\n",
       "\tShapiro-Wilk normality test\n",
       "\n",
       "data:  model_BIC$residuals\n",
       "W = 0.99006, p-value = 0.09072\n"
      ]
     },
     "metadata": {},
     "output_type": "display_data"
    }
   ],
   "source": [
    "shapiro.test(model_BIC$residuals)"
   ]
  },
  {
   "cell_type": "markdown",
   "metadata": {},
   "source": [
    "* Equal variance.  \n",
    "From the Residuals vs Fitted plot, the variance of residuals are approximately equal."
   ]
  },
  {
   "cell_type": "code",
   "execution_count": 40,
   "metadata": {},
   "outputs": [
    {
     "data": {
      "image/png": "[encoded data removed]",
      "text/plain": [
       "Plot with title “series of model residuals”"
      ]
     },
     "metadata": {},
     "output_type": "display_data"
    }
   ],
   "source": [
    "acf(model_BIC$residuals, main=\"series of model residuals\")"
   ]
  },
  {
   "cell_type": "markdown",
   "metadata": {},
   "source": [
    "* Independence.  \n",
    "We calculated the autocorrelation of the residuals. It shows that for all lags, the autocorrelation are inside the critical bound. So the independece assumption is satisfied."
   ]
  },
  {
   "cell_type": "markdown",
   "metadata": {},
   "source": [
    "### 3.3 Laymen’s Interpretation"
   ]
  },
  {
   "cell_type": "markdown",
   "metadata": {},
   "source": [
    "The approximate of final model is: \n",
    "\n",
    "$$ Bodyfat = -23 + 0.9 * Abdomen - 0.08 * Weight - 1.3 * Wrist $$\n",
    "\n",
    "That is, when fixing other two variables, 1cm increasment in **Abdomen** leads to 0.9 increasment in Bodyfat; 10 lbs increasment in **Weight** leads to 0.8 decreasment in Bodyfat; 1cm increasment in **Wrist** leads to 1.3 decreasment in Bodyfat."
   ]
  }
 ],
 "metadata": {
  "kernelspec": {
   "display_name": "R",
   "language": "R",
   "name": "ir"
  },
  "language_info": {
   "codemirror_mode": "r",
   "file_extension": ".r",
   "mimetype": "text/x-r-source",
   "name": "R",
   "pygments_lexer": "r",
   "version": "3.4.1"
  }
 },
 "nbformat": 4,
 "nbformat_minor": 2
}
