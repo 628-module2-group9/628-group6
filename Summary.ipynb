{
 "cells": [
  {
   "cell_type": "markdown",
   "metadata": {},
   "source": [
    "# $\\textit{Project Summary}$\n",
    " #### Group9: Yun Mo, Fangyang Chen, Anne Huen Wai Wong, Richard Yang"
   ]
  },
  {
   "cell_type": "markdown",
   "metadata": {},
   "source": [
    "## $\\textit{1.  Introduction}$\n",
    "\n",
    "Nowadays, the problem of obesity is increasingly serious, and lots of people work out to develop good figures. It's important to have a specific metric for them to keep their plan and see their progress,and the bodyfat is one of such measurement.\n",
    "\n",
    "Although there's a very accurate way to calculate the Bodyfat using density, it's not very convenient to measure and would be cumbersome to use for clinical purpose. So we think it's necessary to build a model to predict the Bodyfat using some available metrics, and select variables  as few as possible to make the calculation tool is convenient for everyone.\n"
   ]
  },
  {
   "cell_type": "markdown",
   "metadata": {},
   "source": [
    "## $\\textit{2. Background information of data}$\n",
    "#### Our data contains covariates of commonly available measurements and Bodyfat or Density as response:\n",
    "Percent body fat from Siri's (1956) equation, Density determined from underwater weighing, Age (years), Weight (lbs), Height (inches), Adioposity (bmi), Neck circumference (cm), Chest circumference (cm), Abdomen 2 circumference (cm), Hip circumference (cm), Thigh circumference (cm), Knee circumference (cm), Ankle circumference (cm), Biceps, (extended) circumference (cm), Forearm circumference (cm), Wrist circumference (cm)  "
   ]
  },
  {
   "cell_type": "markdown",
   "metadata": {},
   "source": [
    "## $\\textit{3.  statement of the model}$\n",
    "### $\\textit{3.1 Remove outliers}$"
   ]
  },
  {
   "cell_type": "markdown",
   "metadata": {},
   "source": [
    "#### $\\textit{3.1.1 According to bodyfat ~ density equation}$"
   ]
  },
  {
   "cell_type": "markdown",
   "metadata": {},
   "source": [
    "As we all know, percent body fat `BODYFAT` and density determined from underwater weighing `DENSITY` are correlated. In fact, there's a linear relation between these two variables.  "
   ]
  },
  {
   "cell_type": "markdown",
   "metadata": {},
   "source": [
    "After seeing the relationship between `BODYFAT` and `DENSITY`, We noticed the 48th, 76th and 96th guys do not follow the linear relationship between `1/DENSITY` and `BODYFAT`. Since we don't know which measurement is inaccurate, we'll just remove them from the dataset. "
   ]
  },
  {
   "cell_type": "markdown",
   "metadata": {},
   "source": [
    "Since the relationship between `DENSITY` and `BODYFAT` is given as follows:\n",
    "\n",
    "$$ bodyfat = \\frac{495}{density} - 450 $$\n",
    "\n",
    "<center> unit of measurements: $bodyfat(\\%), density(g/cm^3)$ </center>\n",
    "\n",
    "We can use `DENSITY` to calculate bodyfat, and compare it with `BODYFAT` given by the dataset."
   ]
  },
  {
   "cell_type": "markdown",
   "metadata": {},
   "source": [
    " <!-- html table generated in R 3.6.1 by xtable 1.8-4 package -->\n",
    "<!-- Tue Oct  8 21:47:10 2019 -->\n",
    "<table border=1>\n",
    "<tr> <th>  </th> <th> BODYFAT </th> <th> DENSITY </th> <th> cal_fat </th>  </tr>\n",
    "  <tr> <td align=\"right\"> 182 </td> <td align=\"right\"> 0.00 </td> <td align=\"right\"> 1.11 </td> <td align=\"right\"> -3.61 </td> </tr>\n",
    "  <tr> <td align=\"right\"> 216 </td> <td align=\"right\"> 45.10 </td> <td align=\"right\"> 0.99 </td> <td align=\"right\"> 47.49 </td> </tr>\n",
    "   </table>"
   ]
  },
  {
   "cell_type": "markdown",
   "metadata": {},
   "source": [
    "The 96th, 48th and 76th guys have been deleted in the former analysis. The calculated bodyfat for the 182th guy is negative and is impossible, so we remove him. The calculated bodyfat for the 216th guy is close to its `BODYFAT` in the dataset and is too much for a human, we remove him too."
   ]
  },
  {
   "cell_type": "markdown",
   "metadata": {},
   "source": [
    "#### $\\textit{3.1.2 According to the extreme value}$"
   ]
  },
  {
   "cell_type": "markdown",
   "metadata": {},
   "source": [
    "###### Weight\n",
    "We noticed there is a guy weights larger than 350 lbs.\n",
    "It is obvious that the highest weight guy has an unormal weight. We tried to recover the weight from his BMI and height, that is, `ADIPOSITY` and `HEIGHT` from the dataset. \n",
    "\n",
    "The BMI calculation formula is: \n",
    "$$ BMI = \\frac{weight}{height^2} $$  \n",
    "<center> unit of measurements: $weight(kg), height(m)$ </center>\n",
    "\n",
    "It's almost the same as his `WEIGHT` from the dataset, which means the data is the true value. And because it's too extreme and not representative, we can just remove data."
   ]
  },
  {
   "cell_type": "markdown",
   "metadata": {},
   "source": [
    "###### Height"
   ]
  },
  {
   "cell_type": "markdown",
   "metadata": {},
   "source": [
    "For the 42th example, we know the guy is a Hobbit but his weight is normal, so we  wanna double check it."
   ]
  },
  {
   "cell_type": "markdown",
   "metadata": {},
   "source": [
    "<!-- html table generated in R 3.6.1 by xtable 1.8-4 package -->\n",
    "<!-- Tue Oct  8 22:01:53 2019 -->\n",
    "<table border=1>\n",
    "<tr> <th>  </th> <th> IDNO </th> <th> BODYFAT </th> <th> DENSITY </th> <th> AGE </th> <th> WEIGHT </th> <th> HEIGHT </th> <th> ADIPOSITY </th> <th> NECK </th> <th> CHEST </th> <th> ABDOMEN </th> <th> HIP </th> <th> THIGH </th> <th> KNEE </th> <th> ANKLE </th> <th> BICEPS </th> <th> FOREARM </th> <th> WRIST </th> <th> cal_fat </th>  </tr>\n",
    "  <tr> <td align=\"right\"> 42 </td> <td align=\"right\">  42 </td> <td align=\"right\"> 31.70 </td> <td align=\"right\"> 1.02 </td> <td align=\"right\">  44 </td> <td align=\"right\"> 205.00 </td> <td align=\"right\"> 29.50 </td> <td align=\"right\"> 29.90 </td> <td align=\"right\"> 36.60 </td> <td align=\"right\"> 106.00 </td> <td align=\"right\"> 104.30 </td> <td align=\"right\"> 115.50 </td> <td align=\"right\"> 70.60 </td> <td align=\"right\"> 42.50 </td> <td align=\"right\"> 23.70 </td> <td align=\"right\"> 33.60 </td> <td align=\"right\"> 28.70 </td> <td align=\"right\"> 17.40 </td> <td align=\"right\"> 32.93 </td> </tr>\n",
    "   </table>"
   ]
  },
  {
   "cell_type": "markdown",
   "metadata": {},
   "source": [
    " We tried to recover the weight from his BMI and height, that is, `ADIPOSITY` and `HEIGHT` from the dataset. \n",
    "\n",
    "**So we can recover his height from his BMI and weight record. And the height for the 42th guy should be around 69.4 inches.**"
   ]
  },
  {
   "cell_type": "markdown",
   "metadata": {},
   "source": [
    "### $\\textit{3.2 Select variables}$"
   ]
  },
  {
   "cell_type": "markdown",
   "metadata": {},
   "source": [
    "**BIC:** \n",
    "Compare the 3 models built by stepwise variable selection(both/backward/forward) with BIC criterion, the model generated by forward selection $model.bic.forward$ has the least number of variables.  \n",
    "The model $model.bic.forward$ has 4 variables, in which the variable `BICEPS` is less significant. In order to get a more simplified model, we refit the model excluding `BICEPS`, i.e our model for BIC is $BODYFAT \\sim ABDOMEN + WEIGHT + WRIST$."
   ]
  },
  {
   "cell_type": "markdown",
   "metadata": {},
   "source": [
    "**LASSO:**Variable selection method LASSO selects 4 variables: `AGE`, `HEIGHT`, `ABDOMEN`, `WRIST`. Fitting a Multiple Linear Regression model with these variables, we find Variable `AGE` is less significant in $model\\_LASSO$. In order to get a more simplified model, we refit the model excluding `AGE`."
   ]
  },
  {
   "cell_type": "markdown",
   "metadata": {},
   "source": [
    "Compare the multiple R-squared of the 2 models we got:\n",
    "\n",
    "* $model\\_BIC$: 0.72\n",
    "\n",
    "* $model\\_LASSO\\_final$: 0.7182\n",
    "\n",
    "$model\\_BIC$ has larger multiple R-squared, and they have the same number of variable selected, so we choose it as our final model."
   ]
  },
  {
   "cell_type": "markdown",
   "metadata": {},
   "source": [
    "## $\\textit{4. Model elaboration}$"
   ]
  },
  {
   "cell_type": "markdown",
   "metadata": {},
   "source": [
    "Our final model is:  \n",
    "\n",
    "$$ Bodyfat = -22.90319 + 0.87320 \\times Abdomen - 0.08140 \\times Weight - 1.33584\\times Wrist $$"
   ]
  },
  {
   "cell_type": "markdown",
   "metadata": {},
   "source": [
    "<!-- html table generated in R 3.6.1 by xtable 1.8-4 package -->\n",
    "<!-- Wed Oct 09 16:00:08 2019 -->\n",
    "<table border=1>\n",
    "<tr> <th>  </th> <th> Estimate </th> <th> Std. Error </th> <th> t value </th> <th> Pr(&gt;|t|) </th> <th> 2.5 % </th> <th> 97.5 % </th>  </tr>\n",
    "  <tr> <td align=\"right\"> (Intercept) </td> <td align=\"right\"> -22.90 </td> <td align=\"right\"> 6.22 </td> <td align=\"right\"> -3.68 </td> <td align=\"right\"> 0.00 </td> <td align=\"right\"> -35.16 </td> <td align=\"right\"> -10.64 </td> </tr>\n",
    "  <tr> <td align=\"right\"> ABDOMEN </td> <td align=\"right\"> 0.87 </td> <td align=\"right\"> 0.05 </td> <td align=\"right\"> 16.67 </td> <td align=\"right\"> 0.00 </td> <td align=\"right\"> 0.77 </td> <td align=\"right\"> 0.98 </td> </tr>\n",
    "  <tr> <td align=\"right\"> WEIGHT </td> <td align=\"right\"> -0.08 </td> <td align=\"right\"> 0.02 </td> <td align=\"right\"> -3.63 </td> <td align=\"right\"> 0.00 </td> <td align=\"right\"> -0.13 </td> <td align=\"right\"> -0.04 </td> </tr>\n",
    "  <tr> <td align=\"right\"> WRIST </td> <td align=\"right\"> -1.34 </td> <td align=\"right\"> 0.40 </td> <td align=\"right\"> -3.32 </td> <td align=\"right\"> 0.00 </td> <td align=\"right\"> -2.13 </td> <td align=\"right\"> -0.54 </td> </tr>\n",
    "   </table>"
   ]
  },
  {
   "cell_type": "markdown",
   "metadata": {},
   "source": [
    "The final model contains 3 variables: **Abdomen**, **Weight** and **Wrist**. The Multiple R-squared for this model is 0.72, which means these 3 variables can explain about 72% variability of the bodyfat.  \n",
    "\n",
    "When consider F-test for null hypothesis: $\\beta_1 = \\beta_2 = \\beta_3 = 0$, the corresponding p-value is less than $2.2e^{-16}$. So we reject the null hypothesis.\n",
    "\n",
    "For the coefficients for the 3 variables, when testing for null hypothesis: $\\beta_i=0$,  the p-values for each test is very significant (less than 0.01). This means the possibility for falsely rejecting each null hypothesis is less than 0.01.  \n",
    "\n",
    "We can also further check the 95% confidence intervals which list in above table. None of the confidence intervals for the 3 variables including 0, which also support that the 3 coefficients are not 0."
   ]
  },
  {
   "cell_type": "markdown",
   "metadata": {},
   "source": [
    "## $\\textit{5. Layman interpretation}$"
   ]
  },
  {
   "cell_type": "markdown",
   "metadata": {},
   "source": [
    "The approximate of final model is: \n",
    "\n",
    "$$ Bodyfat = -23 + 0.9 * Abdomen - 0.08 * Weight - 1.3 * Wrist $$\n",
    "\n",
    "That is, when fixing other two variables, 1cm increasment in **Abdomen** leads to 0.9 increasment in Bodyfat; 10 lbs increasment in **Weight** leads to 0.8 decreasment in Bodyfat; 1cm increasment in **Wrist** leads to 1.3 decreasment in Bodyfat."
   ]
  },
  {
   "cell_type": "markdown",
   "metadata": {},
   "source": [
    "##   $\\textit{6.Model diagnostics}$"
   ]
  },
  {
   "cell_type": "markdown",
   "metadata": {},
   "source": [
    "In this part, we check 3 assumptions of a Simple Linear Regression model by using diagnostic plots."
   ]
  },
  {
   "cell_type": "markdown",
   "metadata": {},
   "source": [
    "![avatar](image/Diagnosis.png)"
   ]
  },
  {
   "cell_type": "markdown",
   "metadata": {},
   "source": [
    "* **Normality.** \n",
    "From the Normal Q-Q plot, the residuals may have a heavy right tail, but in general, the points line on the diagonal can support the normality.  \n",
    "We also used the Shapiro-Wilk normality test to check the normality, which gets a p-value of 0.09072. So we can not reject the normality assumption.\n",
    "* **Equal variance.**  \n",
    "From the Residuals vs Fitted plot, the variance of residuals are approximately equal.\n",
    "* **Independence.**  \n",
    "We calculated the autocorrelation of the residuals. It shows that for all lags, the autocorrelation are inside the critical bound. So the independece assumption is satisfied."
   ]
  },
  {
   "cell_type": "markdown",
   "metadata": {},
   "source": [
    "## $\\textit{7. Strength of our analysis}$\n",
    "- Our model has considered all possible outliers in the procedure of preprocessing data.\n",
    "- The model has included multiple strategies for variable selection, which helps it generalize better in real data.\n",
    "- We implemented the whole procedure of diagnostics and can guarantee the model meets most assumption\n",
    "- The model is concise enough for just considering the linear relationship between the variables and responses, which would be easy to understand to doctors with limited statistics knowledge。"
   ]
  },
  {
   "cell_type": "markdown",
   "metadata": {},
   "source": [
    "## $\\textit{8.  Weakness of our analysis}$\n",
    "\n",
    "- Our data has lots of outliers when evaluated in different aspects, which makes the analysis not that reliable.\n",
    "- The size of the dataset is too small, so we cannot really tell what's the random noise, and some analysis maybe too subjective.\n",
    "- The model is too simple because of the doctor's knowledge level, which is not complicated enough to capture their relationship.\n",
    "- The variables selected doesn't coincide with the common sense, which maybe due to the noise in our data."
   ]
  },
  {
   "cell_type": "markdown",
   "metadata": {},
   "source": [
    "## $\\textit {9. Contribution}$\n",
    "- Yun Mo was responsible for variables selection and model diagnosis.\n",
    "- Fangyang Chen was responsible for coding and testing the Shiny app.\n",
    "- Anne Huen Wai Wong played an major role in building model for prediction.\n",
    "- Richard Yang wrote the summary and slides for presentation."
   ]
  },
  {
   "cell_type": "markdown",
   "metadata": {},
   "source": [
    "## $\\textit{10. Conclusion}$\n",
    "- The best choice of linear model features are **Abdomen**, **Weight** and **Wrist**, which can roughly characterize the `BODYFAT` and at the meantime is concise enough to explain.\n",
    "\n",
    "- Our model satisfies most assumptions, which means our analysis or inference is valid in general.\n",
    "\n",
    "- We can just measure above three easily acquired features to get a   not precise estimate of male's Bodyfat."
   ]
  }
 ],
 "metadata": {
  "kernelspec": {
   "display_name": "R",
   "language": "R",
   "name": "ir"
  },
  "language_info": {
   "codemirror_mode": "r",
   "file_extension": ".r",
   "mimetype": "text/x-r-source",
   "name": "R",
   "pygments_lexer": "r",
   "version": "3.6.1"
  }
 },
 "nbformat": 4,
 "nbformat_minor": 2
}
